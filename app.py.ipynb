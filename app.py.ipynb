{
  "cells": [
    {
      "cell_type": "markdown",
      "metadata": {
        "id": "aR6-iyRDBagz"
      },
      "source": [
        "# Installing and Importing Libraries"
      ]
    },
    {
      "cell_type": "markdown",
      "metadata": {
        "id": "CrdsQ2yC-kW5"
      },
      "source": [
        "This cell below is where we import all our libraries, modules and arguments"
      ]
    },
    {
      "cell_type": "code",
      "execution_count": 40,
      "metadata": {
        "colab": {
          "base_uri": "https://localhost:8080/"
        },
        "collapsed": true,
        "id": "gyULbCgiU5h4",
        "outputId": "b22aa901-bd26-422f-8b04-d37d2ea1ccd3"
      },
      "outputs": [
        {
          "output_type": "stream",
          "name": "stdout",
          "text": [
            "Requirement already satisfied: dash in /usr/local/lib/python3.10/dist-packages (2.17.1)\n",
            "Requirement already satisfied: plotly in /usr/local/lib/python3.10/dist-packages (5.15.0)\n",
            "Requirement already satisfied: Flask<3.1,>=1.0.4 in /usr/local/lib/python3.10/dist-packages (from dash) (2.2.5)\n",
            "Requirement already satisfied: Werkzeug<3.1 in /usr/local/lib/python3.10/dist-packages (from dash) (3.0.4)\n",
            "Requirement already satisfied: dash-html-components==2.0.0 in /usr/local/lib/python3.10/dist-packages (from dash) (2.0.0)\n",
            "Requirement already satisfied: dash-core-components==2.0.0 in /usr/local/lib/python3.10/dist-packages (from dash) (2.0.0)\n",
            "Requirement already satisfied: dash-table==5.0.0 in /usr/local/lib/python3.10/dist-packages (from dash) (5.0.0)\n",
            "Requirement already satisfied: importlib-metadata in /usr/local/lib/python3.10/dist-packages (from dash) (8.4.0)\n",
            "Requirement already satisfied: typing-extensions>=4.1.1 in /usr/local/lib/python3.10/dist-packages (from dash) (4.12.2)\n",
            "Requirement already satisfied: requests in /usr/local/lib/python3.10/dist-packages (from dash) (2.32.3)\n",
            "Requirement already satisfied: retrying in /usr/local/lib/python3.10/dist-packages (from dash) (1.3.4)\n",
            "Requirement already satisfied: nest-asyncio in /usr/local/lib/python3.10/dist-packages (from dash) (1.6.0)\n",
            "Requirement already satisfied: setuptools in /usr/local/lib/python3.10/dist-packages (from dash) (71.0.4)\n",
            "Requirement already satisfied: tenacity>=6.2.0 in /usr/local/lib/python3.10/dist-packages (from plotly) (9.0.0)\n",
            "Requirement already satisfied: packaging in /usr/local/lib/python3.10/dist-packages (from plotly) (24.1)\n",
            "Requirement already satisfied: Jinja2>=3.0 in /usr/local/lib/python3.10/dist-packages (from Flask<3.1,>=1.0.4->dash) (3.1.4)\n",
            "Requirement already satisfied: itsdangerous>=2.0 in /usr/local/lib/python3.10/dist-packages (from Flask<3.1,>=1.0.4->dash) (2.2.0)\n",
            "Requirement already satisfied: click>=8.0 in /usr/local/lib/python3.10/dist-packages (from Flask<3.1,>=1.0.4->dash) (8.1.7)\n",
            "Requirement already satisfied: MarkupSafe>=2.1.1 in /usr/local/lib/python3.10/dist-packages (from Werkzeug<3.1->dash) (2.1.5)\n",
            "Requirement already satisfied: zipp>=0.5 in /usr/local/lib/python3.10/dist-packages (from importlib-metadata->dash) (3.20.1)\n",
            "Requirement already satisfied: charset-normalizer<4,>=2 in /usr/local/lib/python3.10/dist-packages (from requests->dash) (3.3.2)\n",
            "Requirement already satisfied: idna<4,>=2.5 in /usr/local/lib/python3.10/dist-packages (from requests->dash) (3.8)\n",
            "Requirement already satisfied: urllib3<3,>=1.21.1 in /usr/local/lib/python3.10/dist-packages (from requests->dash) (2.0.7)\n",
            "Requirement already satisfied: certifi>=2017.4.17 in /usr/local/lib/python3.10/dist-packages (from requests->dash) (2024.7.4)\n",
            "Requirement already satisfied: six>=1.7.0 in /usr/local/lib/python3.10/dist-packages (from retrying->dash) (1.16.0)\n",
            "Requirement already satisfied: scikit-learn in /usr/local/lib/python3.10/dist-packages (1.3.2)\n",
            "Requirement already satisfied: numpy<2.0,>=1.17.3 in /usr/local/lib/python3.10/dist-packages (from scikit-learn) (1.26.4)\n",
            "Requirement already satisfied: scipy>=1.5.0 in /usr/local/lib/python3.10/dist-packages (from scikit-learn) (1.13.1)\n",
            "Requirement already satisfied: joblib>=1.1.1 in /usr/local/lib/python3.10/dist-packages (from scikit-learn) (1.4.2)\n",
            "Requirement already satisfied: threadpoolctl>=2.0.0 in /usr/local/lib/python3.10/dist-packages (from scikit-learn) (3.5.0)\n",
            "Requirement already satisfied: seaborn in /usr/local/lib/python3.10/dist-packages (0.13.1)\n",
            "Requirement already satisfied: numpy!=1.24.0,>=1.20 in /usr/local/lib/python3.10/dist-packages (from seaborn) (1.26.4)\n",
            "Requirement already satisfied: pandas>=1.2 in /usr/local/lib/python3.10/dist-packages (from seaborn) (2.1.4)\n",
            "Requirement already satisfied: matplotlib!=3.6.1,>=3.4 in /usr/local/lib/python3.10/dist-packages (from seaborn) (3.7.1)\n",
            "Requirement already satisfied: contourpy>=1.0.1 in /usr/local/lib/python3.10/dist-packages (from matplotlib!=3.6.1,>=3.4->seaborn) (1.2.1)\n",
            "Requirement already satisfied: cycler>=0.10 in /usr/local/lib/python3.10/dist-packages (from matplotlib!=3.6.1,>=3.4->seaborn) (0.12.1)\n",
            "Requirement already satisfied: fonttools>=4.22.0 in /usr/local/lib/python3.10/dist-packages (from matplotlib!=3.6.1,>=3.4->seaborn) (4.53.1)\n",
            "Requirement already satisfied: kiwisolver>=1.0.1 in /usr/local/lib/python3.10/dist-packages (from matplotlib!=3.6.1,>=3.4->seaborn) (1.4.5)\n",
            "Requirement already satisfied: packaging>=20.0 in /usr/local/lib/python3.10/dist-packages (from matplotlib!=3.6.1,>=3.4->seaborn) (24.1)\n",
            "Requirement already satisfied: pillow>=6.2.0 in /usr/local/lib/python3.10/dist-packages (from matplotlib!=3.6.1,>=3.4->seaborn) (9.4.0)\n",
            "Requirement already satisfied: pyparsing>=2.3.1 in /usr/local/lib/python3.10/dist-packages (from matplotlib!=3.6.1,>=3.4->seaborn) (3.1.4)\n",
            "Requirement already satisfied: python-dateutil>=2.7 in /usr/local/lib/python3.10/dist-packages (from matplotlib!=3.6.1,>=3.4->seaborn) (2.8.2)\n",
            "Requirement already satisfied: pytz>=2020.1 in /usr/local/lib/python3.10/dist-packages (from pandas>=1.2->seaborn) (2024.1)\n",
            "Requirement already satisfied: tzdata>=2022.1 in /usr/local/lib/python3.10/dist-packages (from pandas>=1.2->seaborn) (2024.1)\n",
            "Requirement already satisfied: six>=1.5 in /usr/local/lib/python3.10/dist-packages (from python-dateutil>=2.7->matplotlib!=3.6.1,>=3.4->seaborn) (1.16.0)\n"
          ]
        }
      ],
      "source": [
        "!pip install dash plotly\n",
        "import pandas as pd\n",
        "import numpy as np\n",
        "from tabulate import tabulate\n",
        "import matplotlib.pyplot as plt\n",
        "from sklearn.model_selection import train_test_split\n",
        "from sklearn.preprocessing import StandardScaler, OneHotEncoder\n",
        "from sklearn.compose import ColumnTransformer\n",
        "from sklearn.pipeline import Pipeline\n",
        "from sklearn.linear_model import LogisticRegression\n",
        "from sklearn.ensemble import RandomForestClassifier\n",
        "from sklearn.metrics import accuracy_score, classification_report\n",
        "import dash\n",
        "from dash import dcc, html, State\n",
        "from dash.dependencies import Input, Output\n",
        "import plotly.express as px\n",
        "import plotly.graph_objects as go\n",
        "!pip install scikit-learn\n",
        "from sklearn.metrics import confusion_matrix\n",
        "!pip install seaborn\n",
        "import seaborn as sns\n",
        "#import json"
      ]
    },
    {
      "cell_type": "markdown",
      "metadata": {
        "id": "Y0Zx21b_KQ2u"
      },
      "source": [
        "# Mounting our drive"
      ]
    },
    {
      "cell_type": "markdown",
      "metadata": {
        "id": "R_wH9mEp_dKt"
      },
      "source": [
        "This is to connect colab with google drive, and mount the google drive, so we can have access to the dataset (churn.csv)"
      ]
    },
    {
      "cell_type": "code",
      "execution_count": 41,
      "metadata": {
        "id": "wSlKJ49QKRQH",
        "outputId": "63698047-5a5c-4a21-874e-6595ef8624be",
        "colab": {
          "base_uri": "https://localhost:8080/"
        }
      },
      "outputs": [
        {
          "output_type": "stream",
          "name": "stdout",
          "text": [
            "Drive already mounted at /content/drive; to attempt to forcibly remount, call drive.mount(\"/content/drive\", force_remount=True).\n"
          ]
        }
      ],
      "source": [
        "from google.colab import drive\n",
        "drive.mount('/content/drive')"
      ]
    },
    {
      "cell_type": "code",
      "execution_count": 42,
      "metadata": {
        "id": "FwjwkKu5_V45"
      },
      "outputs": [],
      "source": [
        "file_path = '/content/drive/MyDrive/churn.csv'\n",
        "df = pd.read_csv('/content/drive/MyDrive/churn.csv')"
      ]
    },
    {
      "cell_type": "markdown",
      "metadata": {
        "id": "ulGFTC-sKdmY"
      },
      "source": [
        "# Displaying our data"
      ]
    },
    {
      "cell_type": "markdown",
      "metadata": {
        "id": "VVUDKj7-_73_"
      },
      "source": [
        "This line of code display the first 11 rows in our dataset"
      ]
    },
    {
      "cell_type": "code",
      "execution_count": 43,
      "metadata": {
        "id": "8UiIedpr_xPA",
        "outputId": "a5f6dc75-a82c-4be7-8f99-e8a5bc873776",
        "colab": {
          "base_uri": "https://localhost:8080/",
          "height": 0
        }
      },
      "outputs": [
        {
          "output_type": "execute_result",
          "data": {
            "text/plain": [
              "    RowNumber  CustomerId   Surname  CreditScore Geography  Gender  Age  \\\n",
              "0           1    15634602  Hargrave          619    France  Female   42   \n",
              "1           2    15647311      Hill          608     Spain  Female   41   \n",
              "2           3    15619304      Onio          502    France  Female   42   \n",
              "3           4    15701354      Boni          699    France  Female   39   \n",
              "4           5    15737888  Mitchell          850     Spain  Female   43   \n",
              "5           6    15574012       Chu          645     Spain    Male   44   \n",
              "6           7    15592531  Bartlett          822    France    Male   50   \n",
              "7           8    15656148    Obinna          376   Germany  Female   29   \n",
              "8           9    15792365        He          501    France    Male   44   \n",
              "9          10    15592389        H?          684    France    Male   27   \n",
              "10         11    15767821    Bearce          528    France    Male   31   \n",
              "\n",
              "    Tenure    Balance  NumOfProducts  HasCrCard  IsActiveMember  \\\n",
              "0        2       0.00              1          1               1   \n",
              "1        1   83807.86              1          0               1   \n",
              "2        8  159660.80              3          1               0   \n",
              "3        1       0.00              2          0               0   \n",
              "4        2  125510.82              1          1               1   \n",
              "5        8  113755.78              2          1               0   \n",
              "6        7       0.00              2          1               1   \n",
              "7        4  115046.74              4          1               0   \n",
              "8        4  142051.07              2          0               1   \n",
              "9        2  134603.88              1          1               1   \n",
              "10       6  102016.72              2          0               0   \n",
              "\n",
              "    EstimatedSalary  Exited  \n",
              "0         101348.88       1  \n",
              "1         112542.58       0  \n",
              "2         113931.57       1  \n",
              "3          93826.63       0  \n",
              "4          79084.10       0  \n",
              "5         149756.71       1  \n",
              "6          10062.80       0  \n",
              "7         119346.88       1  \n",
              "8          74940.50       0  \n",
              "9          71725.73       0  \n",
              "10         80181.12       0  "
            ],
            "text/html": [
              "\n",
              "  <div id=\"df-1e95f212-9e4c-4fe3-9812-e30939bb1dae\" class=\"colab-df-container\">\n",
              "    <div>\n",
              "<style scoped>\n",
              "    .dataframe tbody tr th:only-of-type {\n",
              "        vertical-align: middle;\n",
              "    }\n",
              "\n",
              "    .dataframe tbody tr th {\n",
              "        vertical-align: top;\n",
              "    }\n",
              "\n",
              "    .dataframe thead th {\n",
              "        text-align: right;\n",
              "    }\n",
              "</style>\n",
              "<table border=\"1\" class=\"dataframe\">\n",
              "  <thead>\n",
              "    <tr style=\"text-align: right;\">\n",
              "      <th></th>\n",
              "      <th>RowNumber</th>\n",
              "      <th>CustomerId</th>\n",
              "      <th>Surname</th>\n",
              "      <th>CreditScore</th>\n",
              "      <th>Geography</th>\n",
              "      <th>Gender</th>\n",
              "      <th>Age</th>\n",
              "      <th>Tenure</th>\n",
              "      <th>Balance</th>\n",
              "      <th>NumOfProducts</th>\n",
              "      <th>HasCrCard</th>\n",
              "      <th>IsActiveMember</th>\n",
              "      <th>EstimatedSalary</th>\n",
              "      <th>Exited</th>\n",
              "    </tr>\n",
              "  </thead>\n",
              "  <tbody>\n",
              "    <tr>\n",
              "      <th>0</th>\n",
              "      <td>1</td>\n",
              "      <td>15634602</td>\n",
              "      <td>Hargrave</td>\n",
              "      <td>619</td>\n",
              "      <td>France</td>\n",
              "      <td>Female</td>\n",
              "      <td>42</td>\n",
              "      <td>2</td>\n",
              "      <td>0.00</td>\n",
              "      <td>1</td>\n",
              "      <td>1</td>\n",
              "      <td>1</td>\n",
              "      <td>101348.88</td>\n",
              "      <td>1</td>\n",
              "    </tr>\n",
              "    <tr>\n",
              "      <th>1</th>\n",
              "      <td>2</td>\n",
              "      <td>15647311</td>\n",
              "      <td>Hill</td>\n",
              "      <td>608</td>\n",
              "      <td>Spain</td>\n",
              "      <td>Female</td>\n",
              "      <td>41</td>\n",
              "      <td>1</td>\n",
              "      <td>83807.86</td>\n",
              "      <td>1</td>\n",
              "      <td>0</td>\n",
              "      <td>1</td>\n",
              "      <td>112542.58</td>\n",
              "      <td>0</td>\n",
              "    </tr>\n",
              "    <tr>\n",
              "      <th>2</th>\n",
              "      <td>3</td>\n",
              "      <td>15619304</td>\n",
              "      <td>Onio</td>\n",
              "      <td>502</td>\n",
              "      <td>France</td>\n",
              "      <td>Female</td>\n",
              "      <td>42</td>\n",
              "      <td>8</td>\n",
              "      <td>159660.80</td>\n",
              "      <td>3</td>\n",
              "      <td>1</td>\n",
              "      <td>0</td>\n",
              "      <td>113931.57</td>\n",
              "      <td>1</td>\n",
              "    </tr>\n",
              "    <tr>\n",
              "      <th>3</th>\n",
              "      <td>4</td>\n",
              "      <td>15701354</td>\n",
              "      <td>Boni</td>\n",
              "      <td>699</td>\n",
              "      <td>France</td>\n",
              "      <td>Female</td>\n",
              "      <td>39</td>\n",
              "      <td>1</td>\n",
              "      <td>0.00</td>\n",
              "      <td>2</td>\n",
              "      <td>0</td>\n",
              "      <td>0</td>\n",
              "      <td>93826.63</td>\n",
              "      <td>0</td>\n",
              "    </tr>\n",
              "    <tr>\n",
              "      <th>4</th>\n",
              "      <td>5</td>\n",
              "      <td>15737888</td>\n",
              "      <td>Mitchell</td>\n",
              "      <td>850</td>\n",
              "      <td>Spain</td>\n",
              "      <td>Female</td>\n",
              "      <td>43</td>\n",
              "      <td>2</td>\n",
              "      <td>125510.82</td>\n",
              "      <td>1</td>\n",
              "      <td>1</td>\n",
              "      <td>1</td>\n",
              "      <td>79084.10</td>\n",
              "      <td>0</td>\n",
              "    </tr>\n",
              "    <tr>\n",
              "      <th>5</th>\n",
              "      <td>6</td>\n",
              "      <td>15574012</td>\n",
              "      <td>Chu</td>\n",
              "      <td>645</td>\n",
              "      <td>Spain</td>\n",
              "      <td>Male</td>\n",
              "      <td>44</td>\n",
              "      <td>8</td>\n",
              "      <td>113755.78</td>\n",
              "      <td>2</td>\n",
              "      <td>1</td>\n",
              "      <td>0</td>\n",
              "      <td>149756.71</td>\n",
              "      <td>1</td>\n",
              "    </tr>\n",
              "    <tr>\n",
              "      <th>6</th>\n",
              "      <td>7</td>\n",
              "      <td>15592531</td>\n",
              "      <td>Bartlett</td>\n",
              "      <td>822</td>\n",
              "      <td>France</td>\n",
              "      <td>Male</td>\n",
              "      <td>50</td>\n",
              "      <td>7</td>\n",
              "      <td>0.00</td>\n",
              "      <td>2</td>\n",
              "      <td>1</td>\n",
              "      <td>1</td>\n",
              "      <td>10062.80</td>\n",
              "      <td>0</td>\n",
              "    </tr>\n",
              "    <tr>\n",
              "      <th>7</th>\n",
              "      <td>8</td>\n",
              "      <td>15656148</td>\n",
              "      <td>Obinna</td>\n",
              "      <td>376</td>\n",
              "      <td>Germany</td>\n",
              "      <td>Female</td>\n",
              "      <td>29</td>\n",
              "      <td>4</td>\n",
              "      <td>115046.74</td>\n",
              "      <td>4</td>\n",
              "      <td>1</td>\n",
              "      <td>0</td>\n",
              "      <td>119346.88</td>\n",
              "      <td>1</td>\n",
              "    </tr>\n",
              "    <tr>\n",
              "      <th>8</th>\n",
              "      <td>9</td>\n",
              "      <td>15792365</td>\n",
              "      <td>He</td>\n",
              "      <td>501</td>\n",
              "      <td>France</td>\n",
              "      <td>Male</td>\n",
              "      <td>44</td>\n",
              "      <td>4</td>\n",
              "      <td>142051.07</td>\n",
              "      <td>2</td>\n",
              "      <td>0</td>\n",
              "      <td>1</td>\n",
              "      <td>74940.50</td>\n",
              "      <td>0</td>\n",
              "    </tr>\n",
              "    <tr>\n",
              "      <th>9</th>\n",
              "      <td>10</td>\n",
              "      <td>15592389</td>\n",
              "      <td>H?</td>\n",
              "      <td>684</td>\n",
              "      <td>France</td>\n",
              "      <td>Male</td>\n",
              "      <td>27</td>\n",
              "      <td>2</td>\n",
              "      <td>134603.88</td>\n",
              "      <td>1</td>\n",
              "      <td>1</td>\n",
              "      <td>1</td>\n",
              "      <td>71725.73</td>\n",
              "      <td>0</td>\n",
              "    </tr>\n",
              "    <tr>\n",
              "      <th>10</th>\n",
              "      <td>11</td>\n",
              "      <td>15767821</td>\n",
              "      <td>Bearce</td>\n",
              "      <td>528</td>\n",
              "      <td>France</td>\n",
              "      <td>Male</td>\n",
              "      <td>31</td>\n",
              "      <td>6</td>\n",
              "      <td>102016.72</td>\n",
              "      <td>2</td>\n",
              "      <td>0</td>\n",
              "      <td>0</td>\n",
              "      <td>80181.12</td>\n",
              "      <td>0</td>\n",
              "    </tr>\n",
              "  </tbody>\n",
              "</table>\n",
              "</div>\n",
              "    <div class=\"colab-df-buttons\">\n",
              "\n",
              "  <div class=\"colab-df-container\">\n",
              "    <button class=\"colab-df-convert\" onclick=\"convertToInteractive('df-1e95f212-9e4c-4fe3-9812-e30939bb1dae')\"\n",
              "            title=\"Convert this dataframe to an interactive table.\"\n",
              "            style=\"display:none;\">\n",
              "\n",
              "  <svg xmlns=\"http://www.w3.org/2000/svg\" height=\"24px\" viewBox=\"0 -960 960 960\">\n",
              "    <path d=\"M120-120v-720h720v720H120Zm60-500h600v-160H180v160Zm220 220h160v-160H400v160Zm0 220h160v-160H400v160ZM180-400h160v-160H180v160Zm440 0h160v-160H620v160ZM180-180h160v-160H180v160Zm440 0h160v-160H620v160Z\"/>\n",
              "  </svg>\n",
              "    </button>\n",
              "\n",
              "  <style>\n",
              "    .colab-df-container {\n",
              "      display:flex;\n",
              "      gap: 12px;\n",
              "    }\n",
              "\n",
              "    .colab-df-convert {\n",
              "      background-color: #E8F0FE;\n",
              "      border: none;\n",
              "      border-radius: 50%;\n",
              "      cursor: pointer;\n",
              "      display: none;\n",
              "      fill: #1967D2;\n",
              "      height: 32px;\n",
              "      padding: 0 0 0 0;\n",
              "      width: 32px;\n",
              "    }\n",
              "\n",
              "    .colab-df-convert:hover {\n",
              "      background-color: #E2EBFA;\n",
              "      box-shadow: 0px 1px 2px rgba(60, 64, 67, 0.3), 0px 1px 3px 1px rgba(60, 64, 67, 0.15);\n",
              "      fill: #174EA6;\n",
              "    }\n",
              "\n",
              "    .colab-df-buttons div {\n",
              "      margin-bottom: 4px;\n",
              "    }\n",
              "\n",
              "    [theme=dark] .colab-df-convert {\n",
              "      background-color: #3B4455;\n",
              "      fill: #D2E3FC;\n",
              "    }\n",
              "\n",
              "    [theme=dark] .colab-df-convert:hover {\n",
              "      background-color: #434B5C;\n",
              "      box-shadow: 0px 1px 3px 1px rgba(0, 0, 0, 0.15);\n",
              "      filter: drop-shadow(0px 1px 2px rgba(0, 0, 0, 0.3));\n",
              "      fill: #FFFFFF;\n",
              "    }\n",
              "  </style>\n",
              "\n",
              "    <script>\n",
              "      const buttonEl =\n",
              "        document.querySelector('#df-1e95f212-9e4c-4fe3-9812-e30939bb1dae button.colab-df-convert');\n",
              "      buttonEl.style.display =\n",
              "        google.colab.kernel.accessAllowed ? 'block' : 'none';\n",
              "\n",
              "      async function convertToInteractive(key) {\n",
              "        const element = document.querySelector('#df-1e95f212-9e4c-4fe3-9812-e30939bb1dae');\n",
              "        const dataTable =\n",
              "          await google.colab.kernel.invokeFunction('convertToInteractive',\n",
              "                                                    [key], {});\n",
              "        if (!dataTable) return;\n",
              "\n",
              "        const docLinkHtml = 'Like what you see? Visit the ' +\n",
              "          '<a target=\"_blank\" href=https://colab.research.google.com/notebooks/data_table.ipynb>data table notebook</a>'\n",
              "          + ' to learn more about interactive tables.';\n",
              "        element.innerHTML = '';\n",
              "        dataTable['output_type'] = 'display_data';\n",
              "        await google.colab.output.renderOutput(dataTable, element);\n",
              "        const docLink = document.createElement('div');\n",
              "        docLink.innerHTML = docLinkHtml;\n",
              "        element.appendChild(docLink);\n",
              "      }\n",
              "    </script>\n",
              "  </div>\n",
              "\n",
              "\n",
              "<div id=\"df-d85a0964-d518-4349-9f9b-9fa5f8b7a17d\">\n",
              "  <button class=\"colab-df-quickchart\" onclick=\"quickchart('df-d85a0964-d518-4349-9f9b-9fa5f8b7a17d')\"\n",
              "            title=\"Suggest charts\"\n",
              "            style=\"display:none;\">\n",
              "\n",
              "<svg xmlns=\"http://www.w3.org/2000/svg\" height=\"24px\"viewBox=\"0 0 24 24\"\n",
              "     width=\"24px\">\n",
              "    <g>\n",
              "        <path d=\"M19 3H5c-1.1 0-2 .9-2 2v14c0 1.1.9 2 2 2h14c1.1 0 2-.9 2-2V5c0-1.1-.9-2-2-2zM9 17H7v-7h2v7zm4 0h-2V7h2v10zm4 0h-2v-4h2v4z\"/>\n",
              "    </g>\n",
              "</svg>\n",
              "  </button>\n",
              "\n",
              "<style>\n",
              "  .colab-df-quickchart {\n",
              "      --bg-color: #E8F0FE;\n",
              "      --fill-color: #1967D2;\n",
              "      --hover-bg-color: #E2EBFA;\n",
              "      --hover-fill-color: #174EA6;\n",
              "      --disabled-fill-color: #AAA;\n",
              "      --disabled-bg-color: #DDD;\n",
              "  }\n",
              "\n",
              "  [theme=dark] .colab-df-quickchart {\n",
              "      --bg-color: #3B4455;\n",
              "      --fill-color: #D2E3FC;\n",
              "      --hover-bg-color: #434B5C;\n",
              "      --hover-fill-color: #FFFFFF;\n",
              "      --disabled-bg-color: #3B4455;\n",
              "      --disabled-fill-color: #666;\n",
              "  }\n",
              "\n",
              "  .colab-df-quickchart {\n",
              "    background-color: var(--bg-color);\n",
              "    border: none;\n",
              "    border-radius: 50%;\n",
              "    cursor: pointer;\n",
              "    display: none;\n",
              "    fill: var(--fill-color);\n",
              "    height: 32px;\n",
              "    padding: 0;\n",
              "    width: 32px;\n",
              "  }\n",
              "\n",
              "  .colab-df-quickchart:hover {\n",
              "    background-color: var(--hover-bg-color);\n",
              "    box-shadow: 0 1px 2px rgba(60, 64, 67, 0.3), 0 1px 3px 1px rgba(60, 64, 67, 0.15);\n",
              "    fill: var(--button-hover-fill-color);\n",
              "  }\n",
              "\n",
              "  .colab-df-quickchart-complete:disabled,\n",
              "  .colab-df-quickchart-complete:disabled:hover {\n",
              "    background-color: var(--disabled-bg-color);\n",
              "    fill: var(--disabled-fill-color);\n",
              "    box-shadow: none;\n",
              "  }\n",
              "\n",
              "  .colab-df-spinner {\n",
              "    border: 2px solid var(--fill-color);\n",
              "    border-color: transparent;\n",
              "    border-bottom-color: var(--fill-color);\n",
              "    animation:\n",
              "      spin 1s steps(1) infinite;\n",
              "  }\n",
              "\n",
              "  @keyframes spin {\n",
              "    0% {\n",
              "      border-color: transparent;\n",
              "      border-bottom-color: var(--fill-color);\n",
              "      border-left-color: var(--fill-color);\n",
              "    }\n",
              "    20% {\n",
              "      border-color: transparent;\n",
              "      border-left-color: var(--fill-color);\n",
              "      border-top-color: var(--fill-color);\n",
              "    }\n",
              "    30% {\n",
              "      border-color: transparent;\n",
              "      border-left-color: var(--fill-color);\n",
              "      border-top-color: var(--fill-color);\n",
              "      border-right-color: var(--fill-color);\n",
              "    }\n",
              "    40% {\n",
              "      border-color: transparent;\n",
              "      border-right-color: var(--fill-color);\n",
              "      border-top-color: var(--fill-color);\n",
              "    }\n",
              "    60% {\n",
              "      border-color: transparent;\n",
              "      border-right-color: var(--fill-color);\n",
              "    }\n",
              "    80% {\n",
              "      border-color: transparent;\n",
              "      border-right-color: var(--fill-color);\n",
              "      border-bottom-color: var(--fill-color);\n",
              "    }\n",
              "    90% {\n",
              "      border-color: transparent;\n",
              "      border-bottom-color: var(--fill-color);\n",
              "    }\n",
              "  }\n",
              "</style>\n",
              "\n",
              "  <script>\n",
              "    async function quickchart(key) {\n",
              "      const quickchartButtonEl =\n",
              "        document.querySelector('#' + key + ' button');\n",
              "      quickchartButtonEl.disabled = true;  // To prevent multiple clicks.\n",
              "      quickchartButtonEl.classList.add('colab-df-spinner');\n",
              "      try {\n",
              "        const charts = await google.colab.kernel.invokeFunction(\n",
              "            'suggestCharts', [key], {});\n",
              "      } catch (error) {\n",
              "        console.error('Error during call to suggestCharts:', error);\n",
              "      }\n",
              "      quickchartButtonEl.classList.remove('colab-df-spinner');\n",
              "      quickchartButtonEl.classList.add('colab-df-quickchart-complete');\n",
              "    }\n",
              "    (() => {\n",
              "      let quickchartButtonEl =\n",
              "        document.querySelector('#df-d85a0964-d518-4349-9f9b-9fa5f8b7a17d button');\n",
              "      quickchartButtonEl.style.display =\n",
              "        google.colab.kernel.accessAllowed ? 'block' : 'none';\n",
              "    })();\n",
              "  </script>\n",
              "</div>\n",
              "\n",
              "    </div>\n",
              "  </div>\n"
            ],
            "application/vnd.google.colaboratory.intrinsic+json": {
              "type": "dataframe",
              "variable_name": "df",
              "summary": "{\n  \"name\": \"df\",\n  \"rows\": 10000,\n  \"fields\": [\n    {\n      \"column\": \"RowNumber\",\n      \"properties\": {\n        \"dtype\": \"number\",\n        \"std\": 2886,\n        \"min\": 1,\n        \"max\": 10000,\n        \"num_unique_values\": 10000,\n        \"samples\": [\n          6253,\n          4685,\n          1732\n        ],\n        \"semantic_type\": \"\",\n        \"description\": \"\"\n      }\n    },\n    {\n      \"column\": \"CustomerId\",\n      \"properties\": {\n        \"dtype\": \"number\",\n        \"std\": 71936,\n        \"min\": 15565701,\n        \"max\": 15815690,\n        \"num_unique_values\": 10000,\n        \"samples\": [\n          15687492,\n          15736963,\n          15721730\n        ],\n        \"semantic_type\": \"\",\n        \"description\": \"\"\n      }\n    },\n    {\n      \"column\": \"Surname\",\n      \"properties\": {\n        \"dtype\": \"category\",\n        \"num_unique_values\": 2932,\n        \"samples\": [\n          \"McGuirk\",\n          \"Torkelson\",\n          \"Rapuluchukwu\"\n        ],\n        \"semantic_type\": \"\",\n        \"description\": \"\"\n      }\n    },\n    {\n      \"column\": \"CreditScore\",\n      \"properties\": {\n        \"dtype\": \"number\",\n        \"std\": 96,\n        \"min\": 350,\n        \"max\": 850,\n        \"num_unique_values\": 460,\n        \"samples\": [\n          754,\n          533,\n          744\n        ],\n        \"semantic_type\": \"\",\n        \"description\": \"\"\n      }\n    },\n    {\n      \"column\": \"Geography\",\n      \"properties\": {\n        \"dtype\": \"category\",\n        \"num_unique_values\": 3,\n        \"samples\": [\n          \"France\",\n          \"Spain\",\n          \"Germany\"\n        ],\n        \"semantic_type\": \"\",\n        \"description\": \"\"\n      }\n    },\n    {\n      \"column\": \"Gender\",\n      \"properties\": {\n        \"dtype\": \"category\",\n        \"num_unique_values\": 2,\n        \"samples\": [\n          \"Male\",\n          \"Female\"\n        ],\n        \"semantic_type\": \"\",\n        \"description\": \"\"\n      }\n    },\n    {\n      \"column\": \"Age\",\n      \"properties\": {\n        \"dtype\": \"number\",\n        \"std\": 10,\n        \"min\": 18,\n        \"max\": 92,\n        \"num_unique_values\": 70,\n        \"samples\": [\n          61,\n          42\n        ],\n        \"semantic_type\": \"\",\n        \"description\": \"\"\n      }\n    },\n    {\n      \"column\": \"Tenure\",\n      \"properties\": {\n        \"dtype\": \"number\",\n        \"std\": 2,\n        \"min\": 0,\n        \"max\": 10,\n        \"num_unique_values\": 11,\n        \"samples\": [\n          6,\n          2\n        ],\n        \"semantic_type\": \"\",\n        \"description\": \"\"\n      }\n    },\n    {\n      \"column\": \"Balance\",\n      \"properties\": {\n        \"dtype\": \"number\",\n        \"std\": 62397.405202385955,\n        \"min\": 0.0,\n        \"max\": 250898.09,\n        \"num_unique_values\": 6382,\n        \"samples\": [\n          117707.18,\n          133050.97\n        ],\n        \"semantic_type\": \"\",\n        \"description\": \"\"\n      }\n    },\n    {\n      \"column\": \"NumOfProducts\",\n      \"properties\": {\n        \"dtype\": \"number\",\n        \"std\": 0,\n        \"min\": 1,\n        \"max\": 4,\n        \"num_unique_values\": 4,\n        \"samples\": [\n          3,\n          4\n        ],\n        \"semantic_type\": \"\",\n        \"description\": \"\"\n      }\n    },\n    {\n      \"column\": \"HasCrCard\",\n      \"properties\": {\n        \"dtype\": \"number\",\n        \"std\": 0,\n        \"min\": 0,\n        \"max\": 1,\n        \"num_unique_values\": 2,\n        \"samples\": [\n          0,\n          1\n        ],\n        \"semantic_type\": \"\",\n        \"description\": \"\"\n      }\n    },\n    {\n      \"column\": \"IsActiveMember\",\n      \"properties\": {\n        \"dtype\": \"number\",\n        \"std\": 0,\n        \"min\": 0,\n        \"max\": 1,\n        \"num_unique_values\": 2,\n        \"samples\": [\n          0,\n          1\n        ],\n        \"semantic_type\": \"\",\n        \"description\": \"\"\n      }\n    },\n    {\n      \"column\": \"EstimatedSalary\",\n      \"properties\": {\n        \"dtype\": \"number\",\n        \"std\": 57510.49281769816,\n        \"min\": 11.58,\n        \"max\": 199992.48,\n        \"num_unique_values\": 9999,\n        \"samples\": [\n          100809.99,\n          95273.73\n        ],\n        \"semantic_type\": \"\",\n        \"description\": \"\"\n      }\n    },\n    {\n      \"column\": \"Exited\",\n      \"properties\": {\n        \"dtype\": \"number\",\n        \"std\": 0,\n        \"min\": 0,\n        \"max\": 1,\n        \"num_unique_values\": 2,\n        \"samples\": [\n          0,\n          1\n        ],\n        \"semantic_type\": \"\",\n        \"description\": \"\"\n      }\n    }\n  ]\n}"
            }
          },
          "metadata": {},
          "execution_count": 43
        }
      ],
      "source": [
        "df.head(11)"
      ]
    },
    {
      "cell_type": "markdown",
      "metadata": {
        "id": "1YfiJKQpI7a_"
      },
      "source": [
        "# Understanding the data"
      ]
    },
    {
      "cell_type": "markdown",
      "metadata": {
        "id": "_q7cX8c5IiB8"
      },
      "source": [
        "We need to understand our data, by taking each column, analysing it and trying to understand how it affects the overall data.\n"
      ]
    },
    {
      "cell_type": "markdown",
      "metadata": {
        "id": "YpftDFpqJCVS"
      },
      "source": [
        "the following code shows us the total number of people that churned and those who didn't in the Exited column."
      ]
    },
    {
      "cell_type": "code",
      "execution_count": 44,
      "metadata": {
        "id": "0aKrQbGTEuKA",
        "outputId": "01b6165a-e417-4d12-d7e4-437eecbb6f97",
        "colab": {
          "base_uri": "https://localhost:8080/",
          "height": 178
        }
      },
      "outputs": [
        {
          "output_type": "execute_result",
          "data": {
            "text/plain": [
              "Exited\n",
              "0    7963\n",
              "1    2037\n",
              "Name: count, dtype: int64"
            ],
            "text/html": [
              "<div>\n",
              "<style scoped>\n",
              "    .dataframe tbody tr th:only-of-type {\n",
              "        vertical-align: middle;\n",
              "    }\n",
              "\n",
              "    .dataframe tbody tr th {\n",
              "        vertical-align: top;\n",
              "    }\n",
              "\n",
              "    .dataframe thead th {\n",
              "        text-align: right;\n",
              "    }\n",
              "</style>\n",
              "<table border=\"1\" class=\"dataframe\">\n",
              "  <thead>\n",
              "    <tr style=\"text-align: right;\">\n",
              "      <th></th>\n",
              "      <th>count</th>\n",
              "    </tr>\n",
              "    <tr>\n",
              "      <th>Exited</th>\n",
              "      <th></th>\n",
              "    </tr>\n",
              "  </thead>\n",
              "  <tbody>\n",
              "    <tr>\n",
              "      <th>0</th>\n",
              "      <td>7963</td>\n",
              "    </tr>\n",
              "    <tr>\n",
              "      <th>1</th>\n",
              "      <td>2037</td>\n",
              "    </tr>\n",
              "  </tbody>\n",
              "</table>\n",
              "</div><br><label><b>dtype:</b> int64</label>"
            ]
          },
          "metadata": {},
          "execution_count": 44
        }
      ],
      "source": [
        "# Frequency of classes in the \"Exited\" column\n",
        "exit_counts = df[\"Exited\"].value_counts()\n",
        "exit_counts"
      ]
    },
    {
      "cell_type": "markdown",
      "metadata": {
        "id": "A63598__KEKf"
      },
      "source": [
        "Now we are manually assigning \"1\" to variable \"churn\" (those who are leavig the bank) and \"0\" to variable \"not_churn (those who did not leave the bank)"
      ]
    },
    {
      "cell_type": "code",
      "execution_count": 45,
      "metadata": {
        "id": "XojfhTZGFib8"
      },
      "outputs": [],
      "source": [
        "# Customers leaving the bank\n",
        "churn = df.loc[df[\"Exited\"]==1]\n",
        "#churn.head()"
      ]
    },
    {
      "cell_type": "code",
      "execution_count": 46,
      "metadata": {
        "id": "CGy386AeGRj_"
      },
      "outputs": [],
      "source": [
        "# Customers who did not leave the bank\n",
        "not_churn = df.loc[df[\"Exited\"]==0]\n",
        "#not_churn.head()"
      ]
    },
    {
      "cell_type": "markdown",
      "metadata": {
        "id": "q4Sgu2yEKNKW"
      },
      "source": [
        "Here we try to understand the relationship between how long they've been with the bank and how it influences the customers to leave or stay"
      ]
    },
    {
      "cell_type": "code",
      "execution_count": 47,
      "metadata": {
        "id": "pvwp0SZyGXp2",
        "outputId": "1f5c3d91-eaa8-497a-b4e0-a1078e46f116",
        "colab": {
          "base_uri": "https://localhost:8080/",
          "height": 460
        }
      },
      "outputs": [
        {
          "output_type": "execute_result",
          "data": {
            "text/plain": [
              "Tenure\n",
              "0     318\n",
              "10    389\n",
              "6     771\n",
              "9     771\n",
              "4     786\n",
              "3     796\n",
              "1     803\n",
              "5     803\n",
              "8     828\n",
              "2     847\n",
              "7     851\n",
              "Name: count, dtype: int64"
            ],
            "text/html": [
              "<div>\n",
              "<style scoped>\n",
              "    .dataframe tbody tr th:only-of-type {\n",
              "        vertical-align: middle;\n",
              "    }\n",
              "\n",
              "    .dataframe tbody tr th {\n",
              "        vertical-align: top;\n",
              "    }\n",
              "\n",
              "    .dataframe thead th {\n",
              "        text-align: right;\n",
              "    }\n",
              "</style>\n",
              "<table border=\"1\" class=\"dataframe\">\n",
              "  <thead>\n",
              "    <tr style=\"text-align: right;\">\n",
              "      <th></th>\n",
              "      <th>count</th>\n",
              "    </tr>\n",
              "    <tr>\n",
              "      <th>Tenure</th>\n",
              "      <th></th>\n",
              "    </tr>\n",
              "  </thead>\n",
              "  <tbody>\n",
              "    <tr>\n",
              "      <th>0</th>\n",
              "      <td>318</td>\n",
              "    </tr>\n",
              "    <tr>\n",
              "      <th>10</th>\n",
              "      <td>389</td>\n",
              "    </tr>\n",
              "    <tr>\n",
              "      <th>6</th>\n",
              "      <td>771</td>\n",
              "    </tr>\n",
              "    <tr>\n",
              "      <th>9</th>\n",
              "      <td>771</td>\n",
              "    </tr>\n",
              "    <tr>\n",
              "      <th>4</th>\n",
              "      <td>786</td>\n",
              "    </tr>\n",
              "    <tr>\n",
              "      <th>3</th>\n",
              "      <td>796</td>\n",
              "    </tr>\n",
              "    <tr>\n",
              "      <th>1</th>\n",
              "      <td>803</td>\n",
              "    </tr>\n",
              "    <tr>\n",
              "      <th>5</th>\n",
              "      <td>803</td>\n",
              "    </tr>\n",
              "    <tr>\n",
              "      <th>8</th>\n",
              "      <td>828</td>\n",
              "    </tr>\n",
              "    <tr>\n",
              "      <th>2</th>\n",
              "      <td>847</td>\n",
              "    </tr>\n",
              "    <tr>\n",
              "      <th>7</th>\n",
              "      <td>851</td>\n",
              "    </tr>\n",
              "  </tbody>\n",
              "</table>\n",
              "</div><br><label><b>dtype:</b> int64</label>"
            ]
          },
          "metadata": {},
          "execution_count": 47
        }
      ],
      "source": [
        "# Frequency of not_churn group according to Tenure\n",
        "not_churn[\"Tenure\"].value_counts().sort_values()"
      ]
    },
    {
      "cell_type": "code",
      "execution_count": 48,
      "metadata": {
        "id": "kn_37DdVGlEn",
        "outputId": "4be4a951-a449-449d-dc3a-e715919be31a",
        "colab": {
          "base_uri": "https://localhost:8080/",
          "height": 460
        }
      },
      "outputs": [
        {
          "output_type": "execute_result",
          "data": {
            "text/plain": [
              "Tenure\n",
              "0      95\n",
              "10    101\n",
              "7     177\n",
              "6     196\n",
              "8     197\n",
              "2     201\n",
              "4     203\n",
              "5     209\n",
              "3     213\n",
              "9     213\n",
              "1     232\n",
              "Name: count, dtype: int64"
            ],
            "text/html": [
              "<div>\n",
              "<style scoped>\n",
              "    .dataframe tbody tr th:only-of-type {\n",
              "        vertical-align: middle;\n",
              "    }\n",
              "\n",
              "    .dataframe tbody tr th {\n",
              "        vertical-align: top;\n",
              "    }\n",
              "\n",
              "    .dataframe thead th {\n",
              "        text-align: right;\n",
              "    }\n",
              "</style>\n",
              "<table border=\"1\" class=\"dataframe\">\n",
              "  <thead>\n",
              "    <tr style=\"text-align: right;\">\n",
              "      <th></th>\n",
              "      <th>count</th>\n",
              "    </tr>\n",
              "    <tr>\n",
              "      <th>Tenure</th>\n",
              "      <th></th>\n",
              "    </tr>\n",
              "  </thead>\n",
              "  <tbody>\n",
              "    <tr>\n",
              "      <th>0</th>\n",
              "      <td>95</td>\n",
              "    </tr>\n",
              "    <tr>\n",
              "      <th>10</th>\n",
              "      <td>101</td>\n",
              "    </tr>\n",
              "    <tr>\n",
              "      <th>7</th>\n",
              "      <td>177</td>\n",
              "    </tr>\n",
              "    <tr>\n",
              "      <th>6</th>\n",
              "      <td>196</td>\n",
              "    </tr>\n",
              "    <tr>\n",
              "      <th>8</th>\n",
              "      <td>197</td>\n",
              "    </tr>\n",
              "    <tr>\n",
              "      <th>2</th>\n",
              "      <td>201</td>\n",
              "    </tr>\n",
              "    <tr>\n",
              "      <th>4</th>\n",
              "      <td>203</td>\n",
              "    </tr>\n",
              "    <tr>\n",
              "      <th>5</th>\n",
              "      <td>209</td>\n",
              "    </tr>\n",
              "    <tr>\n",
              "      <th>3</th>\n",
              "      <td>213</td>\n",
              "    </tr>\n",
              "    <tr>\n",
              "      <th>9</th>\n",
              "      <td>213</td>\n",
              "    </tr>\n",
              "    <tr>\n",
              "      <th>1</th>\n",
              "      <td>232</td>\n",
              "    </tr>\n",
              "  </tbody>\n",
              "</table>\n",
              "</div><br><label><b>dtype:</b> int64</label>"
            ]
          },
          "metadata": {},
          "execution_count": 48
        }
      ],
      "source": [
        "# Frequency of churn group according to Tenure\n",
        "churn[\"Tenure\"].value_counts().sort_values()"
      ]
    },
    {
      "cell_type": "markdown",
      "metadata": {
        "id": "cpepmAQmLuph"
      },
      "source": [
        "We also try to understand if the number of products a customer subscribes to is a viable influence on the churn rate."
      ]
    },
    {
      "cell_type": "code",
      "execution_count": 49,
      "metadata": {
        "id": "DKdxrJNzGruR",
        "outputId": "aaff3eac-579d-4934-b3db-779946f61883",
        "colab": {
          "base_uri": "https://localhost:8080/",
          "height": 210
        }
      },
      "outputs": [
        {
          "output_type": "execute_result",
          "data": {
            "text/plain": [
              "NumOfProducts\n",
              "3      46\n",
              "1    3675\n",
              "2    4242\n",
              "Name: count, dtype: int64"
            ],
            "text/html": [
              "<div>\n",
              "<style scoped>\n",
              "    .dataframe tbody tr th:only-of-type {\n",
              "        vertical-align: middle;\n",
              "    }\n",
              "\n",
              "    .dataframe tbody tr th {\n",
              "        vertical-align: top;\n",
              "    }\n",
              "\n",
              "    .dataframe thead th {\n",
              "        text-align: right;\n",
              "    }\n",
              "</style>\n",
              "<table border=\"1\" class=\"dataframe\">\n",
              "  <thead>\n",
              "    <tr style=\"text-align: right;\">\n",
              "      <th></th>\n",
              "      <th>count</th>\n",
              "    </tr>\n",
              "    <tr>\n",
              "      <th>NumOfProducts</th>\n",
              "      <th></th>\n",
              "    </tr>\n",
              "  </thead>\n",
              "  <tbody>\n",
              "    <tr>\n",
              "      <th>3</th>\n",
              "      <td>46</td>\n",
              "    </tr>\n",
              "    <tr>\n",
              "      <th>1</th>\n",
              "      <td>3675</td>\n",
              "    </tr>\n",
              "    <tr>\n",
              "      <th>2</th>\n",
              "      <td>4242</td>\n",
              "    </tr>\n",
              "  </tbody>\n",
              "</table>\n",
              "</div><br><label><b>dtype:</b> int64</label>"
            ]
          },
          "metadata": {},
          "execution_count": 49
        }
      ],
      "source": [
        "# Frequency of not_churn group according to NumOfProducts\n",
        "not_churn[\"NumOfProducts\"].value_counts().sort_values()"
      ]
    },
    {
      "cell_type": "code",
      "execution_count": 50,
      "metadata": {
        "id": "MNtuPsl3Gxr_",
        "outputId": "b0241bc4-e48d-49b2-bed9-abafcb9bf97e",
        "colab": {
          "base_uri": "https://localhost:8080/",
          "height": 241
        }
      },
      "outputs": [
        {
          "output_type": "execute_result",
          "data": {
            "text/plain": [
              "NumOfProducts\n",
              "4      60\n",
              "3     220\n",
              "2     348\n",
              "1    1409\n",
              "Name: count, dtype: int64"
            ],
            "text/html": [
              "<div>\n",
              "<style scoped>\n",
              "    .dataframe tbody tr th:only-of-type {\n",
              "        vertical-align: middle;\n",
              "    }\n",
              "\n",
              "    .dataframe tbody tr th {\n",
              "        vertical-align: top;\n",
              "    }\n",
              "\n",
              "    .dataframe thead th {\n",
              "        text-align: right;\n",
              "    }\n",
              "</style>\n",
              "<table border=\"1\" class=\"dataframe\">\n",
              "  <thead>\n",
              "    <tr style=\"text-align: right;\">\n",
              "      <th></th>\n",
              "      <th>count</th>\n",
              "    </tr>\n",
              "    <tr>\n",
              "      <th>NumOfProducts</th>\n",
              "      <th></th>\n",
              "    </tr>\n",
              "  </thead>\n",
              "  <tbody>\n",
              "    <tr>\n",
              "      <th>4</th>\n",
              "      <td>60</td>\n",
              "    </tr>\n",
              "    <tr>\n",
              "      <th>3</th>\n",
              "      <td>220</td>\n",
              "    </tr>\n",
              "    <tr>\n",
              "      <th>2</th>\n",
              "      <td>348</td>\n",
              "    </tr>\n",
              "    <tr>\n",
              "      <th>1</th>\n",
              "      <td>1409</td>\n",
              "    </tr>\n",
              "  </tbody>\n",
              "</table>\n",
              "</div><br><label><b>dtype:</b> int64</label>"
            ]
          },
          "metadata": {},
          "execution_count": 50
        }
      ],
      "source": [
        "# Frequency of churn group according to NumOfProducts\n",
        "churn[\"NumOfProducts\"].value_counts().sort_values()"
      ]
    },
    {
      "cell_type": "markdown",
      "metadata": {
        "id": "VlHZ6EyfMI-4"
      },
      "source": [
        "We also tried to see the numer of those who had credit cards and those who didn't"
      ]
    },
    {
      "cell_type": "code",
      "execution_count": 51,
      "metadata": {
        "id": "GhFcTL_yG2rX",
        "outputId": "34b2d76d-5404-4805-8f42-899b8d89049f",
        "colab": {
          "base_uri": "https://localhost:8080/",
          "height": 178
        }
      },
      "outputs": [
        {
          "output_type": "execute_result",
          "data": {
            "text/plain": [
              "HasCrCard\n",
              "1    5631\n",
              "0    2332\n",
              "Name: count, dtype: int64"
            ],
            "text/html": [
              "<div>\n",
              "<style scoped>\n",
              "    .dataframe tbody tr th:only-of-type {\n",
              "        vertical-align: middle;\n",
              "    }\n",
              "\n",
              "    .dataframe tbody tr th {\n",
              "        vertical-align: top;\n",
              "    }\n",
              "\n",
              "    .dataframe thead th {\n",
              "        text-align: right;\n",
              "    }\n",
              "</style>\n",
              "<table border=\"1\" class=\"dataframe\">\n",
              "  <thead>\n",
              "    <tr style=\"text-align: right;\">\n",
              "      <th></th>\n",
              "      <th>count</th>\n",
              "    </tr>\n",
              "    <tr>\n",
              "      <th>HasCrCard</th>\n",
              "      <th></th>\n",
              "    </tr>\n",
              "  </thead>\n",
              "  <tbody>\n",
              "    <tr>\n",
              "      <th>1</th>\n",
              "      <td>5631</td>\n",
              "    </tr>\n",
              "    <tr>\n",
              "      <th>0</th>\n",
              "      <td>2332</td>\n",
              "    </tr>\n",
              "  </tbody>\n",
              "</table>\n",
              "</div><br><label><b>dtype:</b> int64</label>"
            ]
          },
          "metadata": {},
          "execution_count": 51
        }
      ],
      "source": [
        "# examining the HasCrCard of the not_churn group\n",
        "not_churn[\"HasCrCard\"].value_counts()"
      ]
    },
    {
      "cell_type": "code",
      "execution_count": 52,
      "metadata": {
        "id": "FLJsjHYYG7qJ",
        "outputId": "5dd34f24-fc9a-40a4-8f7c-0c39d6b28718",
        "colab": {
          "base_uri": "https://localhost:8080/",
          "height": 178
        }
      },
      "outputs": [
        {
          "output_type": "execute_result",
          "data": {
            "text/plain": [
              "HasCrCard\n",
              "1    1424\n",
              "0     613\n",
              "Name: count, dtype: int64"
            ],
            "text/html": [
              "<div>\n",
              "<style scoped>\n",
              "    .dataframe tbody tr th:only-of-type {\n",
              "        vertical-align: middle;\n",
              "    }\n",
              "\n",
              "    .dataframe tbody tr th {\n",
              "        vertical-align: top;\n",
              "    }\n",
              "\n",
              "    .dataframe thead th {\n",
              "        text-align: right;\n",
              "    }\n",
              "</style>\n",
              "<table border=\"1\" class=\"dataframe\">\n",
              "  <thead>\n",
              "    <tr style=\"text-align: right;\">\n",
              "      <th></th>\n",
              "      <th>count</th>\n",
              "    </tr>\n",
              "    <tr>\n",
              "      <th>HasCrCard</th>\n",
              "      <th></th>\n",
              "    </tr>\n",
              "  </thead>\n",
              "  <tbody>\n",
              "    <tr>\n",
              "      <th>1</th>\n",
              "      <td>1424</td>\n",
              "    </tr>\n",
              "    <tr>\n",
              "      <th>0</th>\n",
              "      <td>613</td>\n",
              "    </tr>\n",
              "  </tbody>\n",
              "</table>\n",
              "</div><br><label><b>dtype:</b> int64</label>"
            ]
          },
          "metadata": {},
          "execution_count": 52
        }
      ],
      "source": [
        "# examining the HasCrCard of the churn group\n",
        "churn[\"HasCrCard\"].value_counts()"
      ]
    },
    {
      "cell_type": "markdown",
      "metadata": {
        "id": "xdjSWe_uM6Dc"
      },
      "source": [
        "Being an active member of the bank or not might be an influence to people leaving or staying, so we tried to check that too."
      ]
    },
    {
      "cell_type": "code",
      "execution_count": 53,
      "metadata": {
        "id": "DGS1GYD4HCgh",
        "outputId": "c07a8642-d8be-4858-cc7e-7f3f921dc352",
        "colab": {
          "base_uri": "https://localhost:8080/",
          "height": 178
        }
      },
      "outputs": [
        {
          "output_type": "execute_result",
          "data": {
            "text/plain": [
              "IsActiveMember\n",
              "1    4416\n",
              "0    3547\n",
              "Name: count, dtype: int64"
            ],
            "text/html": [
              "<div>\n",
              "<style scoped>\n",
              "    .dataframe tbody tr th:only-of-type {\n",
              "        vertical-align: middle;\n",
              "    }\n",
              "\n",
              "    .dataframe tbody tr th {\n",
              "        vertical-align: top;\n",
              "    }\n",
              "\n",
              "    .dataframe thead th {\n",
              "        text-align: right;\n",
              "    }\n",
              "</style>\n",
              "<table border=\"1\" class=\"dataframe\">\n",
              "  <thead>\n",
              "    <tr style=\"text-align: right;\">\n",
              "      <th></th>\n",
              "      <th>count</th>\n",
              "    </tr>\n",
              "    <tr>\n",
              "      <th>IsActiveMember</th>\n",
              "      <th></th>\n",
              "    </tr>\n",
              "  </thead>\n",
              "  <tbody>\n",
              "    <tr>\n",
              "      <th>1</th>\n",
              "      <td>4416</td>\n",
              "    </tr>\n",
              "    <tr>\n",
              "      <th>0</th>\n",
              "      <td>3547</td>\n",
              "    </tr>\n",
              "  </tbody>\n",
              "</table>\n",
              "</div><br><label><b>dtype:</b> int64</label>"
            ]
          },
          "metadata": {},
          "execution_count": 53
        }
      ],
      "source": [
        "# examining the IsActiveMember of the not_churn group\n",
        "not_churn[\"IsActiveMember\"].value_counts()"
      ]
    },
    {
      "cell_type": "code",
      "execution_count": 54,
      "metadata": {
        "id": "Evu1HJrOHKB0",
        "outputId": "699f89b8-4997-4784-a1a3-02a9c2686263",
        "colab": {
          "base_uri": "https://localhost:8080/",
          "height": 178
        }
      },
      "outputs": [
        {
          "output_type": "execute_result",
          "data": {
            "text/plain": [
              "IsActiveMember\n",
              "0    1302\n",
              "1     735\n",
              "Name: count, dtype: int64"
            ],
            "text/html": [
              "<div>\n",
              "<style scoped>\n",
              "    .dataframe tbody tr th:only-of-type {\n",
              "        vertical-align: middle;\n",
              "    }\n",
              "\n",
              "    .dataframe tbody tr th {\n",
              "        vertical-align: top;\n",
              "    }\n",
              "\n",
              "    .dataframe thead th {\n",
              "        text-align: right;\n",
              "    }\n",
              "</style>\n",
              "<table border=\"1\" class=\"dataframe\">\n",
              "  <thead>\n",
              "    <tr style=\"text-align: right;\">\n",
              "      <th></th>\n",
              "      <th>count</th>\n",
              "    </tr>\n",
              "    <tr>\n",
              "      <th>IsActiveMember</th>\n",
              "      <th></th>\n",
              "    </tr>\n",
              "  </thead>\n",
              "  <tbody>\n",
              "    <tr>\n",
              "      <th>0</th>\n",
              "      <td>1302</td>\n",
              "    </tr>\n",
              "    <tr>\n",
              "      <th>1</th>\n",
              "      <td>735</td>\n",
              "    </tr>\n",
              "  </tbody>\n",
              "</table>\n",
              "</div><br><label><b>dtype:</b> int64</label>"
            ]
          },
          "metadata": {},
          "execution_count": 54
        }
      ],
      "source": [
        "# examining the IsActiveMember of the churn group\n",
        "churn[\"IsActiveMember\"].value_counts()"
      ]
    },
    {
      "cell_type": "markdown",
      "metadata": {
        "id": "6jnKs5hmNPIZ"
      },
      "source": [
        "We also tried to understand if the geographical regions of the customers might also be a factor."
      ]
    },
    {
      "cell_type": "code",
      "execution_count": 55,
      "metadata": {
        "id": "TPaaQ-KTHRkA",
        "outputId": "da07218b-7a24-4b8a-f3b6-c88e6f6593c8",
        "colab": {
          "base_uri": "https://localhost:8080/",
          "height": 210
        }
      },
      "outputs": [
        {
          "output_type": "execute_result",
          "data": {
            "text/plain": [
              "Geography\n",
              "Spain      413\n",
              "France     810\n",
              "Germany    814\n",
              "Name: count, dtype: int64"
            ],
            "text/html": [
              "<div>\n",
              "<style scoped>\n",
              "    .dataframe tbody tr th:only-of-type {\n",
              "        vertical-align: middle;\n",
              "    }\n",
              "\n",
              "    .dataframe tbody tr th {\n",
              "        vertical-align: top;\n",
              "    }\n",
              "\n",
              "    .dataframe thead th {\n",
              "        text-align: right;\n",
              "    }\n",
              "</style>\n",
              "<table border=\"1\" class=\"dataframe\">\n",
              "  <thead>\n",
              "    <tr style=\"text-align: right;\">\n",
              "      <th></th>\n",
              "      <th>count</th>\n",
              "    </tr>\n",
              "    <tr>\n",
              "      <th>Geography</th>\n",
              "      <th></th>\n",
              "    </tr>\n",
              "  </thead>\n",
              "  <tbody>\n",
              "    <tr>\n",
              "      <th>Spain</th>\n",
              "      <td>413</td>\n",
              "    </tr>\n",
              "    <tr>\n",
              "      <th>France</th>\n",
              "      <td>810</td>\n",
              "    </tr>\n",
              "    <tr>\n",
              "      <th>Germany</th>\n",
              "      <td>814</td>\n",
              "    </tr>\n",
              "  </tbody>\n",
              "</table>\n",
              "</div><br><label><b>dtype:</b> int64</label>"
            ]
          },
          "metadata": {},
          "execution_count": 55
        }
      ],
      "source": [
        "# Frequency of churn group according to Geography\n",
        "churn.Geography.value_counts().sort_values()"
      ]
    },
    {
      "cell_type": "code",
      "execution_count": 56,
      "metadata": {
        "id": "Z8qPeQ8MHO4z",
        "outputId": "69557a3f-b656-4658-8b41-58f8061d79e2",
        "colab": {
          "base_uri": "https://localhost:8080/",
          "height": 210
        }
      },
      "outputs": [
        {
          "output_type": "execute_result",
          "data": {
            "text/plain": [
              "Geography\n",
              "Germany    1695\n",
              "Spain      2064\n",
              "France     4204\n",
              "Name: count, dtype: int64"
            ],
            "text/html": [
              "<div>\n",
              "<style scoped>\n",
              "    .dataframe tbody tr th:only-of-type {\n",
              "        vertical-align: middle;\n",
              "    }\n",
              "\n",
              "    .dataframe tbody tr th {\n",
              "        vertical-align: top;\n",
              "    }\n",
              "\n",
              "    .dataframe thead th {\n",
              "        text-align: right;\n",
              "    }\n",
              "</style>\n",
              "<table border=\"1\" class=\"dataframe\">\n",
              "  <thead>\n",
              "    <tr style=\"text-align: right;\">\n",
              "      <th></th>\n",
              "      <th>count</th>\n",
              "    </tr>\n",
              "    <tr>\n",
              "      <th>Geography</th>\n",
              "      <th></th>\n",
              "    </tr>\n",
              "  </thead>\n",
              "  <tbody>\n",
              "    <tr>\n",
              "      <th>Germany</th>\n",
              "      <td>1695</td>\n",
              "    </tr>\n",
              "    <tr>\n",
              "      <th>Spain</th>\n",
              "      <td>2064</td>\n",
              "    </tr>\n",
              "    <tr>\n",
              "      <th>France</th>\n",
              "      <td>4204</td>\n",
              "    </tr>\n",
              "  </tbody>\n",
              "</table>\n",
              "</div><br><label><b>dtype:</b> int64</label>"
            ]
          },
          "metadata": {},
          "execution_count": 56
        }
      ],
      "source": [
        "# Frequency of not_churn group according to Geography\n",
        "not_churn.Geography.value_counts().sort_values()"
      ]
    },
    {
      "cell_type": "markdown",
      "metadata": {
        "id": "yqjrCLfMNpJX"
      },
      "source": [
        "we tried looking at the gender of the customers also\n"
      ]
    },
    {
      "cell_type": "code",
      "execution_count": 57,
      "metadata": {
        "id": "3pMEUnZ3HbfR",
        "outputId": "00b4d1ec-c2e5-406d-d0f6-ce4794a49137",
        "colab": {
          "base_uri": "https://localhost:8080/",
          "height": 178
        }
      },
      "outputs": [
        {
          "output_type": "execute_result",
          "data": {
            "text/plain": [
              "Gender\n",
              "Male      4559\n",
              "Female    3404\n",
              "Name: count, dtype: int64"
            ],
            "text/html": [
              "<div>\n",
              "<style scoped>\n",
              "    .dataframe tbody tr th:only-of-type {\n",
              "        vertical-align: middle;\n",
              "    }\n",
              "\n",
              "    .dataframe tbody tr th {\n",
              "        vertical-align: top;\n",
              "    }\n",
              "\n",
              "    .dataframe thead th {\n",
              "        text-align: right;\n",
              "    }\n",
              "</style>\n",
              "<table border=\"1\" class=\"dataframe\">\n",
              "  <thead>\n",
              "    <tr style=\"text-align: right;\">\n",
              "      <th></th>\n",
              "      <th>count</th>\n",
              "    </tr>\n",
              "    <tr>\n",
              "      <th>Gender</th>\n",
              "      <th></th>\n",
              "    </tr>\n",
              "  </thead>\n",
              "  <tbody>\n",
              "    <tr>\n",
              "      <th>Male</th>\n",
              "      <td>4559</td>\n",
              "    </tr>\n",
              "    <tr>\n",
              "      <th>Female</th>\n",
              "      <td>3404</td>\n",
              "    </tr>\n",
              "  </tbody>\n",
              "</table>\n",
              "</div><br><label><b>dtype:</b> int64</label>"
            ]
          },
          "metadata": {},
          "execution_count": 57
        }
      ],
      "source": [
        "# Frequency of not_churn group according to Gender\n",
        "not_churn.Gender.value_counts()"
      ]
    },
    {
      "cell_type": "code",
      "execution_count": 58,
      "metadata": {
        "id": "G5lTpSZBHh8G",
        "outputId": "025023a6-b5a9-40bb-b889-a77bbf20a8fb",
        "colab": {
          "base_uri": "https://localhost:8080/",
          "height": 178
        }
      },
      "outputs": [
        {
          "output_type": "execute_result",
          "data": {
            "text/plain": [
              "Gender\n",
              "Female    1139\n",
              "Male       898\n",
              "Name: count, dtype: int64"
            ],
            "text/html": [
              "<div>\n",
              "<style scoped>\n",
              "    .dataframe tbody tr th:only-of-type {\n",
              "        vertical-align: middle;\n",
              "    }\n",
              "\n",
              "    .dataframe tbody tr th {\n",
              "        vertical-align: top;\n",
              "    }\n",
              "\n",
              "    .dataframe thead th {\n",
              "        text-align: right;\n",
              "    }\n",
              "</style>\n",
              "<table border=\"1\" class=\"dataframe\">\n",
              "  <thead>\n",
              "    <tr style=\"text-align: right;\">\n",
              "      <th></th>\n",
              "      <th>count</th>\n",
              "    </tr>\n",
              "    <tr>\n",
              "      <th>Gender</th>\n",
              "      <th></th>\n",
              "    </tr>\n",
              "  </thead>\n",
              "  <tbody>\n",
              "    <tr>\n",
              "      <th>Female</th>\n",
              "      <td>1139</td>\n",
              "    </tr>\n",
              "    <tr>\n",
              "      <th>Male</th>\n",
              "      <td>898</td>\n",
              "    </tr>\n",
              "  </tbody>\n",
              "</table>\n",
              "</div><br><label><b>dtype:</b> int64</label>"
            ]
          },
          "metadata": {},
          "execution_count": 58
        }
      ],
      "source": [
        "# Frequency of churn group according to Gender\n",
        "churn.Gender.value_counts()"
      ]
    },
    {
      "cell_type": "code",
      "execution_count": 59,
      "metadata": {
        "id": "YpNHHIpeAkoT",
        "outputId": "66dcbf09-e3d2-400c-b25f-1cc5119bc22f",
        "colab": {
          "base_uri": "https://localhost:8080/"
        }
      },
      "outputs": [
        {
          "output_type": "stream",
          "name": "stdout",
          "text": [
            "<class 'pandas.core.frame.DataFrame'>\n",
            "RangeIndex: 10000 entries, 0 to 9999\n",
            "Data columns (total 14 columns):\n",
            " #   Column           Non-Null Count  Dtype  \n",
            "---  ------           --------------  -----  \n",
            " 0   RowNumber        10000 non-null  int64  \n",
            " 1   CustomerId       10000 non-null  int64  \n",
            " 2   Surname          10000 non-null  object \n",
            " 3   CreditScore      10000 non-null  int64  \n",
            " 4   Geography        10000 non-null  object \n",
            " 5   Gender           10000 non-null  object \n",
            " 6   Age              10000 non-null  int64  \n",
            " 7   Tenure           10000 non-null  int64  \n",
            " 8   Balance          10000 non-null  float64\n",
            " 9   NumOfProducts    10000 non-null  int64  \n",
            " 10  HasCrCard        10000 non-null  int64  \n",
            " 11  IsActiveMember   10000 non-null  int64  \n",
            " 12  EstimatedSalary  10000 non-null  float64\n",
            " 13  Exited           10000 non-null  int64  \n",
            "dtypes: float64(2), int64(9), object(3)\n",
            "memory usage: 1.1+ MB\n"
          ]
        }
      ],
      "source": [
        "# Feature information\n",
        "df.info()"
      ]
    },
    {
      "cell_type": "code",
      "execution_count": 60,
      "metadata": {
        "id": "y28iQhUNl8NX",
        "outputId": "4fa6d3d4-befe-4b59-d93c-1bbf96b261aa",
        "colab": {
          "base_uri": "https://localhost:8080/"
        }
      },
      "outputs": [
        {
          "output_type": "execute_result",
          "data": {
            "text/plain": [
              "(10000, 14)"
            ]
          },
          "metadata": {},
          "execution_count": 60
        }
      ],
      "source": [
        "# The size of the data set\n",
        "df.shape"
      ]
    },
    {
      "cell_type": "markdown",
      "metadata": {
        "id": "HUU967O4K6He"
      },
      "source": [
        "# Cleaning the data"
      ]
    },
    {
      "cell_type": "markdown",
      "metadata": {
        "id": "S-dAfZiiBZ1k"
      },
      "source": [
        "Now we have to drop all columns that give no insights from the dataset such as Surname, Customer ID and Row number"
      ]
    },
    {
      "cell_type": "code",
      "execution_count": 61,
      "metadata": {
        "id": "ghgTF6fKADpf",
        "outputId": "c15807a2-387d-41fb-bbad-0e8fe6cf1132",
        "colab": {
          "base_uri": "https://localhost:8080/",
          "height": 394
        }
      },
      "outputs": [
        {
          "output_type": "execute_result",
          "data": {
            "text/plain": [
              "    CreditScore Geography  Gender  Age  Tenure    Balance  NumOfProducts  \\\n",
              "0           619    France  Female   42       2       0.00              1   \n",
              "1           608     Spain  Female   41       1   83807.86              1   \n",
              "2           502    France  Female   42       8  159660.80              3   \n",
              "3           699    France  Female   39       1       0.00              2   \n",
              "4           850     Spain  Female   43       2  125510.82              1   \n",
              "5           645     Spain    Male   44       8  113755.78              2   \n",
              "6           822    France    Male   50       7       0.00              2   \n",
              "7           376   Germany  Female   29       4  115046.74              4   \n",
              "8           501    France    Male   44       4  142051.07              2   \n",
              "9           684    France    Male   27       2  134603.88              1   \n",
              "10          528    France    Male   31       6  102016.72              2   \n",
              "\n",
              "    HasCrCard  IsActiveMember  EstimatedSalary  Exited  \n",
              "0           1               1        101348.88       1  \n",
              "1           0               1        112542.58       0  \n",
              "2           1               0        113931.57       1  \n",
              "3           0               0         93826.63       0  \n",
              "4           1               1         79084.10       0  \n",
              "5           1               0        149756.71       1  \n",
              "6           1               1         10062.80       0  \n",
              "7           1               0        119346.88       1  \n",
              "8           0               1         74940.50       0  \n",
              "9           1               1         71725.73       0  \n",
              "10          0               0         80181.12       0  "
            ],
            "text/html": [
              "\n",
              "  <div id=\"df-1a148712-002c-4b12-a36f-aeb81b016c1f\" class=\"colab-df-container\">\n",
              "    <div>\n",
              "<style scoped>\n",
              "    .dataframe tbody tr th:only-of-type {\n",
              "        vertical-align: middle;\n",
              "    }\n",
              "\n",
              "    .dataframe tbody tr th {\n",
              "        vertical-align: top;\n",
              "    }\n",
              "\n",
              "    .dataframe thead th {\n",
              "        text-align: right;\n",
              "    }\n",
              "</style>\n",
              "<table border=\"1\" class=\"dataframe\">\n",
              "  <thead>\n",
              "    <tr style=\"text-align: right;\">\n",
              "      <th></th>\n",
              "      <th>CreditScore</th>\n",
              "      <th>Geography</th>\n",
              "      <th>Gender</th>\n",
              "      <th>Age</th>\n",
              "      <th>Tenure</th>\n",
              "      <th>Balance</th>\n",
              "      <th>NumOfProducts</th>\n",
              "      <th>HasCrCard</th>\n",
              "      <th>IsActiveMember</th>\n",
              "      <th>EstimatedSalary</th>\n",
              "      <th>Exited</th>\n",
              "    </tr>\n",
              "  </thead>\n",
              "  <tbody>\n",
              "    <tr>\n",
              "      <th>0</th>\n",
              "      <td>619</td>\n",
              "      <td>France</td>\n",
              "      <td>Female</td>\n",
              "      <td>42</td>\n",
              "      <td>2</td>\n",
              "      <td>0.00</td>\n",
              "      <td>1</td>\n",
              "      <td>1</td>\n",
              "      <td>1</td>\n",
              "      <td>101348.88</td>\n",
              "      <td>1</td>\n",
              "    </tr>\n",
              "    <tr>\n",
              "      <th>1</th>\n",
              "      <td>608</td>\n",
              "      <td>Spain</td>\n",
              "      <td>Female</td>\n",
              "      <td>41</td>\n",
              "      <td>1</td>\n",
              "      <td>83807.86</td>\n",
              "      <td>1</td>\n",
              "      <td>0</td>\n",
              "      <td>1</td>\n",
              "      <td>112542.58</td>\n",
              "      <td>0</td>\n",
              "    </tr>\n",
              "    <tr>\n",
              "      <th>2</th>\n",
              "      <td>502</td>\n",
              "      <td>France</td>\n",
              "      <td>Female</td>\n",
              "      <td>42</td>\n",
              "      <td>8</td>\n",
              "      <td>159660.80</td>\n",
              "      <td>3</td>\n",
              "      <td>1</td>\n",
              "      <td>0</td>\n",
              "      <td>113931.57</td>\n",
              "      <td>1</td>\n",
              "    </tr>\n",
              "    <tr>\n",
              "      <th>3</th>\n",
              "      <td>699</td>\n",
              "      <td>France</td>\n",
              "      <td>Female</td>\n",
              "      <td>39</td>\n",
              "      <td>1</td>\n",
              "      <td>0.00</td>\n",
              "      <td>2</td>\n",
              "      <td>0</td>\n",
              "      <td>0</td>\n",
              "      <td>93826.63</td>\n",
              "      <td>0</td>\n",
              "    </tr>\n",
              "    <tr>\n",
              "      <th>4</th>\n",
              "      <td>850</td>\n",
              "      <td>Spain</td>\n",
              "      <td>Female</td>\n",
              "      <td>43</td>\n",
              "      <td>2</td>\n",
              "      <td>125510.82</td>\n",
              "      <td>1</td>\n",
              "      <td>1</td>\n",
              "      <td>1</td>\n",
              "      <td>79084.10</td>\n",
              "      <td>0</td>\n",
              "    </tr>\n",
              "    <tr>\n",
              "      <th>5</th>\n",
              "      <td>645</td>\n",
              "      <td>Spain</td>\n",
              "      <td>Male</td>\n",
              "      <td>44</td>\n",
              "      <td>8</td>\n",
              "      <td>113755.78</td>\n",
              "      <td>2</td>\n",
              "      <td>1</td>\n",
              "      <td>0</td>\n",
              "      <td>149756.71</td>\n",
              "      <td>1</td>\n",
              "    </tr>\n",
              "    <tr>\n",
              "      <th>6</th>\n",
              "      <td>822</td>\n",
              "      <td>France</td>\n",
              "      <td>Male</td>\n",
              "      <td>50</td>\n",
              "      <td>7</td>\n",
              "      <td>0.00</td>\n",
              "      <td>2</td>\n",
              "      <td>1</td>\n",
              "      <td>1</td>\n",
              "      <td>10062.80</td>\n",
              "      <td>0</td>\n",
              "    </tr>\n",
              "    <tr>\n",
              "      <th>7</th>\n",
              "      <td>376</td>\n",
              "      <td>Germany</td>\n",
              "      <td>Female</td>\n",
              "      <td>29</td>\n",
              "      <td>4</td>\n",
              "      <td>115046.74</td>\n",
              "      <td>4</td>\n",
              "      <td>1</td>\n",
              "      <td>0</td>\n",
              "      <td>119346.88</td>\n",
              "      <td>1</td>\n",
              "    </tr>\n",
              "    <tr>\n",
              "      <th>8</th>\n",
              "      <td>501</td>\n",
              "      <td>France</td>\n",
              "      <td>Male</td>\n",
              "      <td>44</td>\n",
              "      <td>4</td>\n",
              "      <td>142051.07</td>\n",
              "      <td>2</td>\n",
              "      <td>0</td>\n",
              "      <td>1</td>\n",
              "      <td>74940.50</td>\n",
              "      <td>0</td>\n",
              "    </tr>\n",
              "    <tr>\n",
              "      <th>9</th>\n",
              "      <td>684</td>\n",
              "      <td>France</td>\n",
              "      <td>Male</td>\n",
              "      <td>27</td>\n",
              "      <td>2</td>\n",
              "      <td>134603.88</td>\n",
              "      <td>1</td>\n",
              "      <td>1</td>\n",
              "      <td>1</td>\n",
              "      <td>71725.73</td>\n",
              "      <td>0</td>\n",
              "    </tr>\n",
              "    <tr>\n",
              "      <th>10</th>\n",
              "      <td>528</td>\n",
              "      <td>France</td>\n",
              "      <td>Male</td>\n",
              "      <td>31</td>\n",
              "      <td>6</td>\n",
              "      <td>102016.72</td>\n",
              "      <td>2</td>\n",
              "      <td>0</td>\n",
              "      <td>0</td>\n",
              "      <td>80181.12</td>\n",
              "      <td>0</td>\n",
              "    </tr>\n",
              "  </tbody>\n",
              "</table>\n",
              "</div>\n",
              "    <div class=\"colab-df-buttons\">\n",
              "\n",
              "  <div class=\"colab-df-container\">\n",
              "    <button class=\"colab-df-convert\" onclick=\"convertToInteractive('df-1a148712-002c-4b12-a36f-aeb81b016c1f')\"\n",
              "            title=\"Convert this dataframe to an interactive table.\"\n",
              "            style=\"display:none;\">\n",
              "\n",
              "  <svg xmlns=\"http://www.w3.org/2000/svg\" height=\"24px\" viewBox=\"0 -960 960 960\">\n",
              "    <path d=\"M120-120v-720h720v720H120Zm60-500h600v-160H180v160Zm220 220h160v-160H400v160Zm0 220h160v-160H400v160ZM180-400h160v-160H180v160Zm440 0h160v-160H620v160ZM180-180h160v-160H180v160Zm440 0h160v-160H620v160Z\"/>\n",
              "  </svg>\n",
              "    </button>\n",
              "\n",
              "  <style>\n",
              "    .colab-df-container {\n",
              "      display:flex;\n",
              "      gap: 12px;\n",
              "    }\n",
              "\n",
              "    .colab-df-convert {\n",
              "      background-color: #E8F0FE;\n",
              "      border: none;\n",
              "      border-radius: 50%;\n",
              "      cursor: pointer;\n",
              "      display: none;\n",
              "      fill: #1967D2;\n",
              "      height: 32px;\n",
              "      padding: 0 0 0 0;\n",
              "      width: 32px;\n",
              "    }\n",
              "\n",
              "    .colab-df-convert:hover {\n",
              "      background-color: #E2EBFA;\n",
              "      box-shadow: 0px 1px 2px rgba(60, 64, 67, 0.3), 0px 1px 3px 1px rgba(60, 64, 67, 0.15);\n",
              "      fill: #174EA6;\n",
              "    }\n",
              "\n",
              "    .colab-df-buttons div {\n",
              "      margin-bottom: 4px;\n",
              "    }\n",
              "\n",
              "    [theme=dark] .colab-df-convert {\n",
              "      background-color: #3B4455;\n",
              "      fill: #D2E3FC;\n",
              "    }\n",
              "\n",
              "    [theme=dark] .colab-df-convert:hover {\n",
              "      background-color: #434B5C;\n",
              "      box-shadow: 0px 1px 3px 1px rgba(0, 0, 0, 0.15);\n",
              "      filter: drop-shadow(0px 1px 2px rgba(0, 0, 0, 0.3));\n",
              "      fill: #FFFFFF;\n",
              "    }\n",
              "  </style>\n",
              "\n",
              "    <script>\n",
              "      const buttonEl =\n",
              "        document.querySelector('#df-1a148712-002c-4b12-a36f-aeb81b016c1f button.colab-df-convert');\n",
              "      buttonEl.style.display =\n",
              "        google.colab.kernel.accessAllowed ? 'block' : 'none';\n",
              "\n",
              "      async function convertToInteractive(key) {\n",
              "        const element = document.querySelector('#df-1a148712-002c-4b12-a36f-aeb81b016c1f');\n",
              "        const dataTable =\n",
              "          await google.colab.kernel.invokeFunction('convertToInteractive',\n",
              "                                                    [key], {});\n",
              "        if (!dataTable) return;\n",
              "\n",
              "        const docLinkHtml = 'Like what you see? Visit the ' +\n",
              "          '<a target=\"_blank\" href=https://colab.research.google.com/notebooks/data_table.ipynb>data table notebook</a>'\n",
              "          + ' to learn more about interactive tables.';\n",
              "        element.innerHTML = '';\n",
              "        dataTable['output_type'] = 'display_data';\n",
              "        await google.colab.output.renderOutput(dataTable, element);\n",
              "        const docLink = document.createElement('div');\n",
              "        docLink.innerHTML = docLinkHtml;\n",
              "        element.appendChild(docLink);\n",
              "      }\n",
              "    </script>\n",
              "  </div>\n",
              "\n",
              "\n",
              "<div id=\"df-d2ba7e90-080e-4c97-91c1-3a4f8ed1a36c\">\n",
              "  <button class=\"colab-df-quickchart\" onclick=\"quickchart('df-d2ba7e90-080e-4c97-91c1-3a4f8ed1a36c')\"\n",
              "            title=\"Suggest charts\"\n",
              "            style=\"display:none;\">\n",
              "\n",
              "<svg xmlns=\"http://www.w3.org/2000/svg\" height=\"24px\"viewBox=\"0 0 24 24\"\n",
              "     width=\"24px\">\n",
              "    <g>\n",
              "        <path d=\"M19 3H5c-1.1 0-2 .9-2 2v14c0 1.1.9 2 2 2h14c1.1 0 2-.9 2-2V5c0-1.1-.9-2-2-2zM9 17H7v-7h2v7zm4 0h-2V7h2v10zm4 0h-2v-4h2v4z\"/>\n",
              "    </g>\n",
              "</svg>\n",
              "  </button>\n",
              "\n",
              "<style>\n",
              "  .colab-df-quickchart {\n",
              "      --bg-color: #E8F0FE;\n",
              "      --fill-color: #1967D2;\n",
              "      --hover-bg-color: #E2EBFA;\n",
              "      --hover-fill-color: #174EA6;\n",
              "      --disabled-fill-color: #AAA;\n",
              "      --disabled-bg-color: #DDD;\n",
              "  }\n",
              "\n",
              "  [theme=dark] .colab-df-quickchart {\n",
              "      --bg-color: #3B4455;\n",
              "      --fill-color: #D2E3FC;\n",
              "      --hover-bg-color: #434B5C;\n",
              "      --hover-fill-color: #FFFFFF;\n",
              "      --disabled-bg-color: #3B4455;\n",
              "      --disabled-fill-color: #666;\n",
              "  }\n",
              "\n",
              "  .colab-df-quickchart {\n",
              "    background-color: var(--bg-color);\n",
              "    border: none;\n",
              "    border-radius: 50%;\n",
              "    cursor: pointer;\n",
              "    display: none;\n",
              "    fill: var(--fill-color);\n",
              "    height: 32px;\n",
              "    padding: 0;\n",
              "    width: 32px;\n",
              "  }\n",
              "\n",
              "  .colab-df-quickchart:hover {\n",
              "    background-color: var(--hover-bg-color);\n",
              "    box-shadow: 0 1px 2px rgba(60, 64, 67, 0.3), 0 1px 3px 1px rgba(60, 64, 67, 0.15);\n",
              "    fill: var(--button-hover-fill-color);\n",
              "  }\n",
              "\n",
              "  .colab-df-quickchart-complete:disabled,\n",
              "  .colab-df-quickchart-complete:disabled:hover {\n",
              "    background-color: var(--disabled-bg-color);\n",
              "    fill: var(--disabled-fill-color);\n",
              "    box-shadow: none;\n",
              "  }\n",
              "\n",
              "  .colab-df-spinner {\n",
              "    border: 2px solid var(--fill-color);\n",
              "    border-color: transparent;\n",
              "    border-bottom-color: var(--fill-color);\n",
              "    animation:\n",
              "      spin 1s steps(1) infinite;\n",
              "  }\n",
              "\n",
              "  @keyframes spin {\n",
              "    0% {\n",
              "      border-color: transparent;\n",
              "      border-bottom-color: var(--fill-color);\n",
              "      border-left-color: var(--fill-color);\n",
              "    }\n",
              "    20% {\n",
              "      border-color: transparent;\n",
              "      border-left-color: var(--fill-color);\n",
              "      border-top-color: var(--fill-color);\n",
              "    }\n",
              "    30% {\n",
              "      border-color: transparent;\n",
              "      border-left-color: var(--fill-color);\n",
              "      border-top-color: var(--fill-color);\n",
              "      border-right-color: var(--fill-color);\n",
              "    }\n",
              "    40% {\n",
              "      border-color: transparent;\n",
              "      border-right-color: var(--fill-color);\n",
              "      border-top-color: var(--fill-color);\n",
              "    }\n",
              "    60% {\n",
              "      border-color: transparent;\n",
              "      border-right-color: var(--fill-color);\n",
              "    }\n",
              "    80% {\n",
              "      border-color: transparent;\n",
              "      border-right-color: var(--fill-color);\n",
              "      border-bottom-color: var(--fill-color);\n",
              "    }\n",
              "    90% {\n",
              "      border-color: transparent;\n",
              "      border-bottom-color: var(--fill-color);\n",
              "    }\n",
              "  }\n",
              "</style>\n",
              "\n",
              "  <script>\n",
              "    async function quickchart(key) {\n",
              "      const quickchartButtonEl =\n",
              "        document.querySelector('#' + key + ' button');\n",
              "      quickchartButtonEl.disabled = true;  // To prevent multiple clicks.\n",
              "      quickchartButtonEl.classList.add('colab-df-spinner');\n",
              "      try {\n",
              "        const charts = await google.colab.kernel.invokeFunction(\n",
              "            'suggestCharts', [key], {});\n",
              "      } catch (error) {\n",
              "        console.error('Error during call to suggestCharts:', error);\n",
              "      }\n",
              "      quickchartButtonEl.classList.remove('colab-df-spinner');\n",
              "      quickchartButtonEl.classList.add('colab-df-quickchart-complete');\n",
              "    }\n",
              "    (() => {\n",
              "      let quickchartButtonEl =\n",
              "        document.querySelector('#df-d2ba7e90-080e-4c97-91c1-3a4f8ed1a36c button');\n",
              "      quickchartButtonEl.style.display =\n",
              "        google.colab.kernel.accessAllowed ? 'block' : 'none';\n",
              "    })();\n",
              "  </script>\n",
              "</div>\n",
              "\n",
              "    </div>\n",
              "  </div>\n"
            ],
            "application/vnd.google.colaboratory.intrinsic+json": {
              "type": "dataframe",
              "variable_name": "data_cleaned",
              "summary": "{\n  \"name\": \"data_cleaned\",\n  \"rows\": 10000,\n  \"fields\": [\n    {\n      \"column\": \"CreditScore\",\n      \"properties\": {\n        \"dtype\": \"number\",\n        \"std\": 96,\n        \"min\": 350,\n        \"max\": 850,\n        \"num_unique_values\": 460,\n        \"samples\": [\n          754,\n          533,\n          744\n        ],\n        \"semantic_type\": \"\",\n        \"description\": \"\"\n      }\n    },\n    {\n      \"column\": \"Geography\",\n      \"properties\": {\n        \"dtype\": \"category\",\n        \"num_unique_values\": 3,\n        \"samples\": [\n          \"France\",\n          \"Spain\",\n          \"Germany\"\n        ],\n        \"semantic_type\": \"\",\n        \"description\": \"\"\n      }\n    },\n    {\n      \"column\": \"Gender\",\n      \"properties\": {\n        \"dtype\": \"category\",\n        \"num_unique_values\": 2,\n        \"samples\": [\n          \"Male\",\n          \"Female\"\n        ],\n        \"semantic_type\": \"\",\n        \"description\": \"\"\n      }\n    },\n    {\n      \"column\": \"Age\",\n      \"properties\": {\n        \"dtype\": \"number\",\n        \"std\": 10,\n        \"min\": 18,\n        \"max\": 92,\n        \"num_unique_values\": 70,\n        \"samples\": [\n          61,\n          42\n        ],\n        \"semantic_type\": \"\",\n        \"description\": \"\"\n      }\n    },\n    {\n      \"column\": \"Tenure\",\n      \"properties\": {\n        \"dtype\": \"number\",\n        \"std\": 2,\n        \"min\": 0,\n        \"max\": 10,\n        \"num_unique_values\": 11,\n        \"samples\": [\n          6,\n          2\n        ],\n        \"semantic_type\": \"\",\n        \"description\": \"\"\n      }\n    },\n    {\n      \"column\": \"Balance\",\n      \"properties\": {\n        \"dtype\": \"number\",\n        \"std\": 62397.405202385955,\n        \"min\": 0.0,\n        \"max\": 250898.09,\n        \"num_unique_values\": 6382,\n        \"samples\": [\n          117707.18,\n          133050.97\n        ],\n        \"semantic_type\": \"\",\n        \"description\": \"\"\n      }\n    },\n    {\n      \"column\": \"NumOfProducts\",\n      \"properties\": {\n        \"dtype\": \"number\",\n        \"std\": 0,\n        \"min\": 1,\n        \"max\": 4,\n        \"num_unique_values\": 4,\n        \"samples\": [\n          3,\n          4\n        ],\n        \"semantic_type\": \"\",\n        \"description\": \"\"\n      }\n    },\n    {\n      \"column\": \"HasCrCard\",\n      \"properties\": {\n        \"dtype\": \"number\",\n        \"std\": 0,\n        \"min\": 0,\n        \"max\": 1,\n        \"num_unique_values\": 2,\n        \"samples\": [\n          0,\n          1\n        ],\n        \"semantic_type\": \"\",\n        \"description\": \"\"\n      }\n    },\n    {\n      \"column\": \"IsActiveMember\",\n      \"properties\": {\n        \"dtype\": \"number\",\n        \"std\": 0,\n        \"min\": 0,\n        \"max\": 1,\n        \"num_unique_values\": 2,\n        \"samples\": [\n          0,\n          1\n        ],\n        \"semantic_type\": \"\",\n        \"description\": \"\"\n      }\n    },\n    {\n      \"column\": \"EstimatedSalary\",\n      \"properties\": {\n        \"dtype\": \"number\",\n        \"std\": 57510.49281769816,\n        \"min\": 11.58,\n        \"max\": 199992.48,\n        \"num_unique_values\": 9999,\n        \"samples\": [\n          100809.99,\n          95273.73\n        ],\n        \"semantic_type\": \"\",\n        \"description\": \"\"\n      }\n    },\n    {\n      \"column\": \"Exited\",\n      \"properties\": {\n        \"dtype\": \"number\",\n        \"std\": 0,\n        \"min\": 0,\n        \"max\": 1,\n        \"num_unique_values\": 2,\n        \"samples\": [\n          0,\n          1\n        ],\n        \"semantic_type\": \"\",\n        \"description\": \"\"\n      }\n    }\n  ]\n}"
            }
          },
          "metadata": {},
          "execution_count": 61
        }
      ],
      "source": [
        "# Drop irrelevant columns from the dataframe\n",
        "data_cleaned = df.drop(columns=[\"RowNumber\", \"CustomerId\", \"Surname\"])\n",
        "\n",
        "# Separate target variable from features\n",
        "y = data_cleaned[\"Exited\"]\n",
        "X = data_cleaned.drop(columns=[\"Exited\"])\n",
        "\n",
        "# Define categorical and numerical columns\n",
        "categorical_cols = ['Geography', 'Gender']\n",
        "numerical_cols = [col for col in X.columns if col not in categorical_cols]\n",
        "data_cleaned.head(11)"
      ]
    },
    {
      "cell_type": "code",
      "execution_count": 62,
      "metadata": {
        "id": "puvpJM-0XBjn"
      },
      "outputs": [],
      "source": [
        "# Creating a preprocessor that prepares the data for a machine learning model\n",
        "# by applying different transformations to numerical and categorical cols.\n",
        "preprocessor = ColumnTransformer(\n",
        "    transformers=[\n",
        "        ('num', StandardScaler(), numerical_cols),\n",
        "('cat', OneHotEncoder(handle_unknown='ignore'), categorical_cols)\n",
        "    ])"
      ]
    },
    {
      "cell_type": "markdown",
      "metadata": {
        "id": "t0C5-W0OmIZ6"
      },
      "source": [
        "The code below basically just makes sure there are no missing values for eachcolumns"
      ]
    },
    {
      "cell_type": "code",
      "execution_count": 63,
      "metadata": {
        "id": "u9z7eQWsZHQn",
        "outputId": "be488b63-f0f7-48f6-fbfc-f94a4a5b59dc",
        "colab": {
          "base_uri": "https://localhost:8080/",
          "height": 523
        }
      },
      "outputs": [
        {
          "output_type": "execute_result",
          "data": {
            "text/plain": [
              "RowNumber          0\n",
              "CustomerId         0\n",
              "Surname            0\n",
              "CreditScore        0\n",
              "Geography          0\n",
              "Gender             0\n",
              "Age                0\n",
              "Tenure             0\n",
              "Balance            0\n",
              "NumOfProducts      0\n",
              "HasCrCard          0\n",
              "IsActiveMember     0\n",
              "EstimatedSalary    0\n",
              "Exited             0\n",
              "dtype: int64"
            ],
            "text/html": [
              "<div>\n",
              "<style scoped>\n",
              "    .dataframe tbody tr th:only-of-type {\n",
              "        vertical-align: middle;\n",
              "    }\n",
              "\n",
              "    .dataframe tbody tr th {\n",
              "        vertical-align: top;\n",
              "    }\n",
              "\n",
              "    .dataframe thead th {\n",
              "        text-align: right;\n",
              "    }\n",
              "</style>\n",
              "<table border=\"1\" class=\"dataframe\">\n",
              "  <thead>\n",
              "    <tr style=\"text-align: right;\">\n",
              "      <th></th>\n",
              "      <th>0</th>\n",
              "    </tr>\n",
              "  </thead>\n",
              "  <tbody>\n",
              "    <tr>\n",
              "      <th>RowNumber</th>\n",
              "      <td>0</td>\n",
              "    </tr>\n",
              "    <tr>\n",
              "      <th>CustomerId</th>\n",
              "      <td>0</td>\n",
              "    </tr>\n",
              "    <tr>\n",
              "      <th>Surname</th>\n",
              "      <td>0</td>\n",
              "    </tr>\n",
              "    <tr>\n",
              "      <th>CreditScore</th>\n",
              "      <td>0</td>\n",
              "    </tr>\n",
              "    <tr>\n",
              "      <th>Geography</th>\n",
              "      <td>0</td>\n",
              "    </tr>\n",
              "    <tr>\n",
              "      <th>Gender</th>\n",
              "      <td>0</td>\n",
              "    </tr>\n",
              "    <tr>\n",
              "      <th>Age</th>\n",
              "      <td>0</td>\n",
              "    </tr>\n",
              "    <tr>\n",
              "      <th>Tenure</th>\n",
              "      <td>0</td>\n",
              "    </tr>\n",
              "    <tr>\n",
              "      <th>Balance</th>\n",
              "      <td>0</td>\n",
              "    </tr>\n",
              "    <tr>\n",
              "      <th>NumOfProducts</th>\n",
              "      <td>0</td>\n",
              "    </tr>\n",
              "    <tr>\n",
              "      <th>HasCrCard</th>\n",
              "      <td>0</td>\n",
              "    </tr>\n",
              "    <tr>\n",
              "      <th>IsActiveMember</th>\n",
              "      <td>0</td>\n",
              "    </tr>\n",
              "    <tr>\n",
              "      <th>EstimatedSalary</th>\n",
              "      <td>0</td>\n",
              "    </tr>\n",
              "    <tr>\n",
              "      <th>Exited</th>\n",
              "      <td>0</td>\n",
              "    </tr>\n",
              "  </tbody>\n",
              "</table>\n",
              "</div><br><label><b>dtype:</b> int64</label>"
            ]
          },
          "metadata": {},
          "execution_count": 63
        }
      ],
      "source": [
        "df.isna().sum()\n",
        "#df = pd.DataFrame(data_cleaned)\n",
        "#df.head()"
      ]
    },
    {
      "cell_type": "code",
      "execution_count": 64,
      "metadata": {
        "id": "GXs_XMU6WXH5",
        "outputId": "a6416eeb-f5a3-4e07-a8f5-a56a9740fc31",
        "colab": {
          "base_uri": "https://localhost:8080/"
        }
      },
      "outputs": [
        {
          "output_type": "execute_result",
          "data": {
            "text/plain": [
              "array(['France', 'Spain', 'Germany'], dtype=object)"
            ]
          },
          "metadata": {},
          "execution_count": 64
        }
      ],
      "source": [
        "df['Geography'].unique()"
      ]
    },
    {
      "cell_type": "markdown",
      "metadata": {
        "id": "V8ujyULiL07g"
      },
      "source": [
        "# Splitting the dataset"
      ]
    },
    {
      "cell_type": "markdown",
      "metadata": {
        "id": "sg4I40ZLm6zl"
      },
      "source": [
        "Now we proceed to splitt the dataset into training and testing subsets"
      ]
    },
    {
      "cell_type": "code",
      "execution_count": 65,
      "metadata": {
        "id": "KSdBMr0tnDeY"
      },
      "outputs": [],
      "source": [
        "X_train, X_test, y_train, y_test = train_test_split(X, y, test_size=0.2, random_state=24)"
      ]
    },
    {
      "cell_type": "markdown",
      "metadata": {
        "id": "fxbnHT7uN2UU"
      },
      "source": [
        "# Data transformation"
      ]
    },
    {
      "cell_type": "markdown",
      "metadata": {
        "id": "9uxd7g2Noznl"
      },
      "source": [
        "The following lines of code transforms the data. `model_1` uses a logistic regression model, while `model_2` uses a random forest model."
      ]
    },
    {
      "cell_type": "code",
      "execution_count": 66,
      "metadata": {
        "id": "9NzraAm1pZcU"
      },
      "outputs": [],
      "source": [
        "model_1 = Pipeline(steps=[('preprocessor', preprocessor),\n",
        "                        ('classifier', LogisticRegression(random_state=24))])\n",
        "\n",
        "model_2 = Pipeline(steps=[('preprocessor', preprocessor),\n",
        "                        ('classifier', RandomForestClassifier(random_state=24))])"
      ]
    },
    {
      "cell_type": "markdown",
      "metadata": {
        "id": "c0_Kwb6iqj2j"
      },
      "source": [
        "The following code trains te models ('model_1' and 'model_2') using the training data, then uses the trained models to make predictions on the test dat a."
      ]
    },
    {
      "cell_type": "code",
      "execution_count": 67,
      "metadata": {
        "id": "4Vy1TuPkrGJ1"
      },
      "outputs": [],
      "source": [
        "model_1.fit(X_train, y_train)\n",
        "model_2.fit(X_train, y_train)\n",
        "\n",
        "y_pred_1 = model_1.predict(X_test)\n",
        "y_pred_2 = model_2.predict(X_test)"
      ]
    },
    {
      "cell_type": "markdown",
      "metadata": {
        "id": "rjKOa1YmsFlX"
      },
      "source": [
        "The following code calculates how well the models (Logistic Regressio, Random Forest Classifier) perform, then displays the report."
      ]
    },
    {
      "cell_type": "code",
      "execution_count": 68,
      "metadata": {
        "id": "ByWuCPABsk75",
        "outputId": "a1246e95-2964-4e28-c703-fb62fec370b2",
        "colab": {
          "base_uri": "https://localhost:8080/"
        }
      },
      "outputs": [
        {
          "output_type": "stream",
          "name": "stdout",
          "text": [
            "Logistic Regression Model:\n",
            "0.8085\n",
            "Classification Report:\n",
            "+--------------+-------------+----------+------------+-----------+\n",
            "|              |   precision |   recall |   f1-score |   support |\n",
            "+==============+=============+==========+============+===========+\n",
            "| 0            |    0.821581 | 0.969124 |   0.889274 | 1587      |\n",
            "+--------------+-------------+----------+------------+-----------+\n",
            "| 1            |    0.617188 | 0.191283 |   0.292052 |  413      |\n",
            "+--------------+-------------+----------+------------+-----------+\n",
            "| accuracy     |    0.8085   | 0.8085   |   0.8085   |    0.8085 |\n",
            "+--------------+-------------+----------+------------+-----------+\n",
            "| macro avg    |    0.719384 | 0.580204 |   0.590663 | 2000      |\n",
            "+--------------+-------------+----------+------------+-----------+\n",
            "| weighted avg |    0.779374 | 0.8085   |   0.765948 | 2000      |\n",
            "+--------------+-------------+----------+------------+-----------+\n",
            "\n",
            "Random Forest Classifier:\n",
            "0.86\n",
            "Classification Report:\n",
            "+--------------+-------------+----------+------------+-----------+\n",
            "|              |   precision |   recall |   f1-score |   support |\n",
            "+==============+=============+==========+============+===========+\n",
            "| 0            |    0.871096 | 0.966604 |   0.916368 |   1587    |\n",
            "+--------------+-------------+----------+------------+-----------+\n",
            "| 1            |    0.778243 | 0.450363 |   0.570552 |    413    |\n",
            "+--------------+-------------+----------+------------+-----------+\n",
            "| accuracy     |    0.86     | 0.86     |   0.86     |      0.86 |\n",
            "+--------------+-------------+----------+------------+-----------+\n",
            "| macro avg    |    0.824669 | 0.708483 |   0.74346  |   2000    |\n",
            "+--------------+-------------+----------+------------+-----------+\n",
            "| weighted avg |    0.851922 | 0.86     |   0.844957 |   2000    |\n",
            "+--------------+-------------+----------+------------+-----------+\n"
          ]
        }
      ],
      "source": [
        "accuracy_1 = accuracy_score(y_test, y_pred_1)\n",
        "report_1 = classification_report(y_test, y_pred_1)\n",
        "\n",
        "accuracy_2 = accuracy_score(y_test, y_pred_2)\n",
        "report_2 = classification_report(y_test, y_pred_2)\n",
        "\n",
        "print(\"Logistic Regression Model:\")\n",
        "print(accuracy_1)\n",
        "print('Classification Report:')\n",
        "\n",
        "# Convert the classification report to a DataFrame for tabulation\n",
        "report_1_dict = classification_report(y_test, y_pred_1, output_dict=True)\n",
        "report_1_df = pd.DataFrame(report_1_dict).transpose()\n",
        "print(tabulate(report_1_df, headers='keys', tablefmt='grid'))\n",
        "\n",
        "print(\"\\nRandom Forest Classifier:\")\n",
        "print(accuracy_2)\n",
        "print('Classification Report:')\n",
        "\n",
        "# Convert the classification report to a DataFrame for tabulation\n",
        "report_2_dict = classification_report(y_test, y_pred_2, output_dict=True)\n",
        "report_2_df = pd.DataFrame(report_2_dict).transpose()\n",
        "print(tabulate(report_2_df, headers='keys', tablefmt='grid'))"
      ]
    },
    {
      "cell_type": "code",
      "execution_count": 69,
      "metadata": {
        "id": "BZvvEPJbi01F",
        "outputId": "47ca25ea-a417-452a-afee-673558c1bf32",
        "colab": {
          "base_uri": "https://localhost:8080/",
          "height": 564
        }
      },
      "outputs": [
        {
          "output_type": "display_data",
          "data": {
            "text/plain": [
              "<Figure size 1000x600 with 1 Axes>"
            ],
            "image/png": "[encoded data removed]"
          },
          "metadata": {}
        }
      ],
      "source": [
        "# Sample data\n",
        "data = {\n",
        "    'CreditScore': [619, 608, 502, 699, 850],\n",
        "    'Exited': [1, 0, 1, 0, 0]\n",
        "}\n",
        "\n",
        "df = pd.DataFrame(data)\n",
        "\n",
        "X = df[['CreditScore']]\n",
        "y = df['Exited']\n",
        "\n",
        "scaler = StandardScaler()\n",
        "X_scaled = scaler.fit_transform(X)\n",
        "\n",
        "model_1 = LogisticRegression()\n",
        "model_1.fit(X_scaled, y)\n",
        "\n",
        "x_range = np.linspace(X_scaled.min() - 1, X_scaled.max() + 1, 300).reshape(-1, 1)\n",
        "\n",
        "probabilities = model_1.predict_proba(x_range)[:, 1]\n",
        "\n",
        "x_range_original = scaler.inverse_transform(x_range)\n",
        "\n",
        "# Plot with adjustments\n",
        "plt.figure(figsize=(10, 6))\n",
        "plt.scatter(df['CreditScore'], df['Exited'], color='red', label='Actual data', s=100)\n",
        "plt.plot(x_range_original, probabilities, color='blue', label='Logistic Regression curve', linewidth=2)\n",
        "plt.xlabel('Credit Score')\n",
        "plt.ylabel('Probability of Exiting')\n",
        "plt.title('Logistic Regression Probability Curve')\n",
        "plt.legend()\n",
        "plt.grid(True)\n",
        "plt.show()"
      ]
    },
    {
      "cell_type": "markdown",
      "metadata": {
        "id": "G_44WzvRvi-R"
      },
      "source": [
        "The followin code initializes the confusion matrix for the Logistic Regression model and Random Forest model"
      ]
    },
    {
      "cell_type": "code",
      "execution_count": 70,
      "metadata": {
        "collapsed": true,
        "id": "WX2AFPiQneRT"
      },
      "outputs": [],
      "source": [
        "# confusion matrix for the Logistic Regression model\n",
        "cm = confusion_matrix(y_test, y_pred_1)\n",
        "\n",
        "# and for the Random Forest model:\n",
        "cm_2 = confusion_matrix(y_test, y_pred_2)\n",
        "\n",
        "#print(cm)\n",
        "#print(cm_2)"
      ]
    },
    {
      "cell_type": "markdown",
      "metadata": {
        "id": "s8dr0JbSvxGe"
      },
      "source": [
        "Confusio Matrix for Logistic regression model"
      ]
    },
    {
      "cell_type": "code",
      "execution_count": 71,
      "metadata": {
        "id": "7Ku-UIDFpRKh",
        "outputId": "ac77213e-0c1e-4d26-91d4-d9a7e51e7db1",
        "colab": {
          "base_uri": "https://localhost:8080/",
          "height": 556
        }
      },
      "outputs": [
        {
          "output_type": "display_data",
          "data": {
            "text/plain": [
              "<Figure size 1000x500 with 2 Axes>"
            ],
            "image/png": "[encoded data removed]"
          },
          "metadata": {}
        },
        {
          "output_type": "stream",
          "name": "stdout",
          "text": [
            "True Positive :  79\n",
            "True Negative :  1538\n",
            "False Positive:  49\n",
            "False Negative:  334\n"
          ]
        }
      ],
      "source": [
        "# Plotting th e confusion matrix\n",
        "plt.figure(figsize=(10, 5))\n",
        "sns.heatmap(cm, annot=True, fmt='d', cmap='Greens')\n",
        "plt.xlabel('Predicted')\n",
        "plt.ylabel('Actual')\n",
        "plt.title('Confusion Matrix - Logistic regression model')\n",
        "plt.show()\n",
        "\n",
        "print(\"True Positive : \", cm[1, 1])\n",
        "print(\"True Negative : \", cm[0, 0])\n",
        "print(\"False Positive: \", cm[0, 1])\n",
        "print(\"False Negative: \", cm[1, 0])"
      ]
    },
    {
      "cell_type": "markdown",
      "metadata": {
        "id": "uuLOVdMCwBDm"
      },
      "source": [
        "Confusion matrix for random forest model"
      ]
    },
    {
      "cell_type": "code",
      "execution_count": 72,
      "metadata": {
        "id": "HkH9zkJ_qLAg",
        "outputId": "07734be2-d06c-48cf-ebef-00c5ce02f436",
        "colab": {
          "base_uri": "https://localhost:8080/",
          "height": 710
        }
      },
      "outputs": [
        {
          "output_type": "display_data",
          "data": {
            "text/plain": [
              "<Figure size 1000x700 with 2 Axes>"
            ],
            "image/png": "[encoded data removed]"
          },
          "metadata": {}
        },
        {
          "output_type": "stream",
          "name": "stdout",
          "text": [
            "True Positive :  186\n",
            "True Negative :  1534\n",
            "False Positive:  53\n",
            "False Negative:  227\n"
          ]
        }
      ],
      "source": [
        "# Plot confusion matrix\n",
        "plt.figure(figsize=(10, 7))\n",
        "sns.heatmap(cm_2, annot=True, fmt='d', cmap='Reds')\n",
        "plt.xlabel('Predicted')\n",
        "plt.ylabel('Actual')\n",
        "plt.title('Confusion Matrix - Random Forest Model')\n",
        "plt.show()\n",
        "\n",
        "print(\"True Positive : \", cm_2[1, 1])\n",
        "print(\"True Negative : \", cm_2[0, 0])\n",
        "print(\"False Positive: \", cm_2[0, 1])\n",
        "print(\"False Negative: \", cm_2[1, 0])"
      ]
    },
    {
      "cell_type": "code",
      "execution_count": 73,
      "metadata": {
        "id": "pUm-WvTwOBHx",
        "outputId": "b4266bc7-6df3-4192-a3ff-42d200a9d262",
        "colab": {
          "base_uri": "https://localhost:8080/",
          "height": 523
        }
      },
      "outputs": [
        {
          "output_type": "execute_result",
          "data": {
            "text/plain": [
              "<seaborn.axisgrid.FacetGrid at 0x78f33c45da20>"
            ]
          },
          "metadata": {},
          "execution_count": 73
        },
        {
          "output_type": "display_data",
          "data": {
            "text/plain": [
              "<Figure size 511.111x500 with 1 Axes>"
            ],
            "image/png": "[encoded data removed]"
          },
          "metadata": {}
        }
      ],
      "source": [
        "sns.catplot(x=\"Exited\", y=\"CreditScore\", data=df)"
      ]
    },
    {
      "cell_type": "markdown",
      "metadata": {
        "id": "sO_k44I9BGOX"
      },
      "source": [
        "# Initializing Dash"
      ]
    },
    {
      "cell_type": "markdown",
      "metadata": {
        "id": "sl-VfzKEyU1n"
      },
      "source": [
        "To create the dash board we need to activate the dash app, which helps us create interactive web applications for data visualization"
      ]
    },
    {
      "cell_type": "code",
      "execution_count": 74,
      "metadata": {
        "id": "2NrEMRb_yHzY"
      },
      "outputs": [],
      "source": [
        "# Activating Dash app\n",
        "app = dash.Dash(__name__)"
      ]
    },
    {
      "cell_type": "markdown",
      "metadata": {
        "id": "rqMP1YMeCJfX"
      },
      "source": [
        "# Creating and Styling Dashboard"
      ]
    },
    {
      "cell_type": "markdown",
      "metadata": {
        "id": "W7hfKr1hzIva"
      },
      "source": [
        "The following codes basically just defines the layout of the dashboard using CSS (inline style), and then we employ callbacks for interaction with various parts of the dashboard."
      ]
    },
    {
      "cell_type": "code",
      "execution_count": 75,
      "metadata": {
        "id": "80zMDP5oysj0",
        "outputId": "f6052b00-aacb-43c9-9054-b4aebafd6efb",
        "colab": {
          "base_uri": "https://localhost:8080/",
          "height": 671
        }
      },
      "outputs": [
        {
          "output_type": "display_data",
          "data": {
            "text/plain": [
              "<IPython.core.display.Javascript object>"
            ],
            "application/javascript": [
              "(async (port, path, width, height, cache, element) => {\n",
              "    if (!google.colab.kernel.accessAllowed && !cache) {\n",
              "      return;\n",
              "    }\n",
              "    element.appendChild(document.createTextNode(''));\n",
              "    const url = await google.colab.kernel.proxyPort(port, {cache});\n",
              "    const iframe = document.createElement('iframe');\n",
              "    iframe.src = new URL(path, url).toString();\n",
              "    iframe.height = height;\n",
              "    iframe.width = width;\n",
              "    iframe.style.border = 0;\n",
              "    iframe.allow = [\n",
              "        'accelerometer',\n",
              "        'autoplay',\n",
              "        'camera',\n",
              "        'clipboard-read',\n",
              "        'clipboard-write',\n",
              "        'gyroscope',\n",
              "        'magnetometer',\n",
              "        'microphone',\n",
              "        'serial',\n",
              "        'usb',\n",
              "        'xr-spatial-tracking',\n",
              "    ].join('; ');\n",
              "    element.appendChild(iframe);\n",
              "  })(8050, \"/\", \"100%\", 650, false, window.element)"
            ]
          },
          "metadata": {}
        }
      ],
      "source": [
        "# Sample Data\n",
        "data = pd.read_csv('/content/drive/MyDrive/churn.csv')\n",
        "data_cleaned = data.copy()\n",
        "\n",
        "# Numeric Data for Correlation Heatmap and Model Training\n",
        "numeric_data = data_cleaned.select_dtypes(include=[np.number])\n",
        "\n",
        "# Dash App Initialization\n",
        "#app = dash.Dash(__name__)\n",
        "\n",
        "# App Layout\n",
        "app.layout = html.Div(style={'backgroundColor': '#f2f2f2', 'fontFamily': 'Arial, sans-serif'}, children=[\n",
        "    html.H1(\"Bank Customer Churn Dashboard\", style={'textAlign': 'center', 'color': '#003366'}),\n",
        "\n",
        "    # KPIs Section\n",
        "    html.Div([\n",
        "        html.Div([\n",
        "            html.H3(id='kpi-churn-rate', style={'color': '#003366'}),\n",
        "            html.P(\"Current Churn Rate\", style={'color': '#003366'})\n",
        "        ], style={'width': '30%', 'display': 'inline-block'}),\n",
        "\n",
        "        html.Div([\n",
        "            html.H3(id='kpi-clv', style={'color': '#003366'}),\n",
        "            html.P(\"Customer Lifetime Value (Avg.)\", style={'color': '#003366'})\n",
        "        ], style={'width': '30%', 'display': 'inline-block'}),\n",
        "\n",
        "        html.Div([\n",
        "            html.H3(id='kpi-top-feature', style={'color': '#003366'}),\n",
        "            html.P(\"Top Risk Feature\", style={'color': '#003366'})\n",
        "        ], style={'width': '30%', 'display': 'inline-block'}),\n",
        "    ], style={'display': 'flex', 'justifyContent': 'space-between', 'padding': '20px', 'backgroundColor': '#ffffff', 'boxShadow': '2px 2px 5px rgba(0, 0, 0, 0.1)'}),\n",
        "\n",
        "    # Overall Churn Rate Pie Chart\n",
        "    html.Div([\n",
        "        html.H2(\"Overall Churn Rate\", style={'color': '#003366'}),\n",
        "        dcc.Graph(id='churn-rate')\n",
        "    ], style={'padding': '25px', 'backgroundColor': '#ffffff', 'boxShadow': '2px 2px 5px rgba(0, 0, 0, 0.1)'}),\n",
        "\n",
        "    # Distribution Plots\n",
        "    html.Div([\n",
        "        html.H2(\"Distribution by Feature\", style={'color': '#003366'}),\n",
        "        dcc.Dropdown(\n",
        "            id='feature-dropdown',\n",
        "            options=[{'label': col, 'value': col} for col in ['Age', 'CreditScore', 'Balance', 'NumOfProducts', 'EstimatedSalary']],\n",
        "            value='Age',\n",
        "            style={'marginBottom': '20px'}\n",
        "        ),\n",
        "        dcc.Graph(id='feature-distribution')\n",
        "    ], style={'padding': '20px', 'backgroundColor': '#ffffff', 'boxShadow': '3px 3px 5px rgba(0, 0, 0, 0.1)'}),\n",
        "\n",
        "    # Correlation Heatmap\n",
        "    html.Div([\n",
        "        html.H2(\"Correlation Heatmap\", style={'color': '#003366'}),\n",
        "        dcc.Graph(id='correlation-heatmap')\n",
        "    ], style={'padding': '20px', 'backgroundColor': '#ffffff', 'boxShadow': '2px 2px 5px rgba(0, 0, 0, 0.1)'}),\n",
        "\n",
        "    # Feature Importance\n",
        "    html.Div([\n",
        "        html.H2(\"Feature Importance\", style={'color': '#003366'}),\n",
        "        dcc.Graph(id='feature-importance')\n",
        "    ], style={'padding': '20px', 'backgroundColor': '#ffffff', 'boxShadow': '2px 2px 5px rgba(0, 0, 0, 0.1)'}),\n",
        "\n",
        "    # Geomap\n",
        "    html.Div([\n",
        "        html.H2(\"Customer Distribution by Region\", style={'color': '#003366'}),\n",
        "        dcc.Graph(id='geomap')\n",
        "    ], style={'padding': '20px', 'backgroundColor': '#ffffff', 'boxShadow': '2px 2px 5px rgba(0, 0, 0, 0.1)'}),\n",
        "])\n",
        "\n",
        "# Callback for Current Churn Rate\n",
        "@app.callback(\n",
        "    Output('kpi-churn-rate', 'children'),\n",
        "    Input('churn-rate', 'figure')\n",
        ")\n",
        "def update_kpi_churn_rate(_):\n",
        "    churn_rate = data['Exited'].mean() * 100\n",
        "    return f\"{churn_rate:.2f}%\"\n",
        "\n",
        "# Callback for Average Customer Lifetime Value (CLV)\n",
        "@app.callback(\n",
        "    Output('kpi-clv', 'children'),\n",
        "    Input('feature-importance', 'figure')\n",
        ")\n",
        "def update_kpi_clv(_):\n",
        "    clv_avg = data['EstimatedSalary'].mean()\n",
        "    return f\"${clv_avg:.2f}\"\n",
        "\n",
        "# Callback for Top Risk Feature\n",
        "@app.callback(\n",
        "    Output('kpi-top-feature', 'children'),\n",
        "    Input('feature-importance', 'figure')\n",
        ")\n",
        "def update_kpi_top_feature(_):\n",
        "    X = numeric_data.drop(columns=['Exited'])\n",
        "    y = data['Exited']\n",
        "    model = RandomForestClassifier(random_state=24)\n",
        "    model.fit(X, y)\n",
        "    importances = model.feature_importances_\n",
        "    top_feature = X.columns[np.argmax(importances)]\n",
        "    return top_feature\n",
        "\n",
        "# Callback for Churn Rate Pie Chart\n",
        "@app.callback(\n",
        "    Output('churn-rate', 'figure'),\n",
        "    Input('churn-rate', 'id')\n",
        ")\n",
        "def update_churn_rate(_):\n",
        "    churn_rate = data['Exited'].mean() * 100\n",
        "    fig = px.pie(\n",
        "        names=['Retained', 'Exited'],\n",
        "        values=[100-churn_rate, churn_rate],\n",
        "        title=f'Overall Churn Rate: {churn_rate:.2f}%',\n",
        "        hole=0.3\n",
        "    )\n",
        "    fig.update_traces(\n",
        "        textinfo='value+percent',\n",
        "        pull=[0, 0.1],\n",
        "        marker=dict(colors=['#28a745', '#dc3545']),\n",
        "        opacity=0.9,\n",
        "        textposition='outside',\n",
        "        hoverinfo='label+percent+name',\n",
        "        rotation=90\n",
        "    )\n",
        "    fig.update_layout(\n",
        "        showlegend=False,\n",
        "        height=500,  # Increase height\n",
        "        width=600,  # Increase width\n",
        "        scene=dict(zaxis=dict(title='Churn', titlefont=dict(color='blue'))),\n",
        "        paper_bgcolor=\"#f2f2f2\",\n",
        "        plot_bgcolor=\"#f2f2f2\",\n",
        "    )\n",
        "    return fig\n",
        "\n",
        "# Callback for Feature Distribution\n",
        "@app.callback(\n",
        "    Output('feature-distribution', 'figure'),\n",
        "    Input('feature-dropdown', 'value')\n",
        ")\n",
        "def update_feature_distribution(feature):\n",
        "    aggregated_data = data.groupby([feature, 'Exited']).size().reset_index(name='Count')\n",
        "\n",
        "    fig = go.Figure()\n",
        "\n",
        "    fig.add_trace(go.Bar(\n",
        "        x=aggregated_data[aggregated_data['Exited'] == 0][feature],\n",
        "        y=aggregated_data[aggregated_data['Exited'] == 0]['Count'],\n",
        "        name='Not Churned',\n",
        "        marker_color='#1f77b4'\n",
        "    ))\n",
        "\n",
        "    fig.add_trace(go.Bar(\n",
        "        x=aggregated_data[aggregated_data['Exited'] == 1][feature],\n",
        "        y=aggregated_data[aggregated_data['Exited'] == 1]['Count'],\n",
        "        name='Churned',\n",
        "        marker_color='#ff7f0e'\n",
        "    ))\n",
        "\n",
        "    fig.update_layout(\n",
        "        barmode='group',\n",
        "        title=f'Distribution of {feature}',\n",
        "        xaxis_title=feature,\n",
        "        yaxis_title='Count',\n",
        "        paper_bgcolor=\"#f2f2f2\",\n",
        "        plot_bgcolor=\"#f2f2f2\",\n",
        "        legend_title_text='Churn Status',\n",
        "        legend=dict(\n",
        "            orientation=\"h\",\n",
        "            yanchor=\"bottom\",\n",
        "            y=1.02,\n",
        "            xanchor=\"right\",\n",
        "            x=1\n",
        "        ),\n",
        "    )\n",
        "\n",
        "    return fig\n",
        "\n",
        "# Callback for Correlation Heatmap\n",
        "@app.callback(\n",
        "    Output('correlation-heatmap', 'figure'),\n",
        "    Input('correlation-heatmap', 'id')\n",
        ")\n",
        "def update_correlation_heatmap(_):\n",
        "    corr = numeric_data.corr()\n",
        "    fig = px.imshow(corr, text_auto=True, title=\"Feature Correlation Heatmap\")\n",
        "    fig.update_layout(\n",
        "        margin=dict(l=0, r=0, t=30, b=0),\n",
        "        paper_bgcolor=\"#f2f2f2\",\n",
        "        plot_bgcolor=\"#f2f2f2\"\n",
        "    )\n",
        "    return fig\n",
        "\n",
        "# Callback for Feature Importance\n",
        "@app.callback(\n",
        "    Output('feature-importance', 'figure'),\n",
        "    Input('feature-importance', 'id')\n",
        ")\n",
        "def update_feature_importance(_):\n",
        "    X = numeric_data.drop(columns=['Exited'])\n",
        "    y = data['Exited']\n",
        "    model = RandomForestClassifier(random_state=24)\n",
        "    model.fit(X, y)\n",
        "    importance = model.feature_importances_\n",
        "    features = X.columns\n",
        "    fig = go.Figure(data=[\n",
        "        go.Bar(x=features, y=importance, marker=dict(color='rgb(58,200,225)', line=dict(color='rgb(8,48,107)', width=1.5)))\n",
        "    ])\n",
        "    fig.update_layout(\n",
        "        title=\"Feature Importance\",\n",
        "        margin=dict(l=0, r=0, t=30, b=0),\n",
        "        paper_bgcolor=\"#f2f2f2\",\n",
        "        plot_bgcolor=\"#f2f2f2\",\n",
        "        xaxis_title=\"Feature\",\n",
        "        yaxis_title=\"Importance\"\n",
        "    )\n",
        "    return fig\n",
        "\n",
        "\n",
        "# Callback for Geomap\n",
        "@app.callback(\n",
        "    Output('geomap', 'figure'),\n",
        "    Input('geomap', 'id')\n",
        ")\n",
        "def update_geomap(_):\n",
        "    fig = px.choropleth(\n",
        "        data_cleaned,\n",
        "        locations=\"Geography\",  # Column with country names\n",
        "        locationmode='country names',  # Tells Plotly to interpret the names as country names\n",
        "        color=\"Exited\",  # Colors regions based on this column\n",
        "        color_continuous_scale=\"Viridis\",\n",
        "        title=\"Customer Distribution by Country\",\n",
        "        projection=\"orthographic\"  # Classic map projection\n",
        "    )\n",
        "\n",
        "    # Update layout to make the map bigger and wider\n",
        "    fig.update_layout(\n",
        "        height=600,  # Increase height\n",
        "        width=1000,  # Increase width\n",
        "        margin={\"r\":0,\"t\":30,\"l\":0,\"b\":0},  # Remove default margins\n",
        "        geo=dict(\n",
        "            showframe=False,  # Hide the frame\n",
        "            showcoastlines=True,  # Show coastlines for a classic look\n",
        "            coastlinecolor=\"Black\",  # Color of the coastlines\n",
        "            showland=True,  # Show land\n",
        "            landcolor=\"lightgreen\",  # Land color for a classic look\n",
        "            bgcolor=\"rgba(0,0,0,0)\",  # Background color (transparent)\n",
        "        ),\n",
        "        paper_bgcolor=\"#f2f2f2\",  # Background color of the paper\n",
        "        plot_bgcolor=\"#f2f2f2\"  # Background color of the plot\n",
        "    )\n",
        "\n",
        "    return fig\n",
        "\n",
        "\n",
        "\n",
        "\n",
        "# Run the app\n",
        "if __name__ == '__main__':\n",
        "    app.run_server(debug=True)"
      ]
    },
    {
      "cell_type": "code",
      "execution_count": 76,
      "metadata": {
        "id": "YKWzB1amb1W4"
      },
      "outputs": [],
      "source": [
        "#import json\n",
        "#with open('/content/drive/MyDrive/europe_countries.geojson') as f:\n",
        " #   geojson_data = json.load(f)\n",
        "\n",
        "#for feature in geojson_data['features']:\n",
        " #   print(feature['properties'])"
      ]
    },
    {
      "cell_type": "markdown",
      "metadata": {
        "id": "fdZcBAnLFu-8"
      },
      "source": [
        "# Prediction Dashboard\n"
      ]
    },
    {
      "cell_type": "markdown",
      "metadata": {
        "id": "e3XZWLzrFSct"
      },
      "source": [
        "To make predictions on the probability of a customer leaving the bank, we made a different app for that\n"
      ]
    },
    {
      "cell_type": "code",
      "execution_count": 79,
      "metadata": {
        "id": "EsJVO8svTjt5",
        "outputId": "351c0e10-94df-4e65-8ad6-1f8600bcd64a",
        "colab": {
          "base_uri": "https://localhost:8080/",
          "height": 671
        }
      },
      "outputs": [
        {
          "output_type": "display_data",
          "data": {
            "text/plain": [
              "<IPython.core.display.Javascript object>"
            ],
            "application/javascript": [
              "(async (port, path, width, height, cache, element) => {\n",
              "    if (!google.colab.kernel.accessAllowed && !cache) {\n",
              "      return;\n",
              "    }\n",
              "    element.appendChild(document.createTextNode(''));\n",
              "    const url = await google.colab.kernel.proxyPort(port, {cache});\n",
              "    const iframe = document.createElement('iframe');\n",
              "    iframe.src = new URL(path, url).toString();\n",
              "    iframe.height = height;\n",
              "    iframe.width = width;\n",
              "    iframe.style.border = 0;\n",
              "    iframe.allow = [\n",
              "        'accelerometer',\n",
              "        'autoplay',\n",
              "        'camera',\n",
              "        'clipboard-read',\n",
              "        'clipboard-write',\n",
              "        'gyroscope',\n",
              "        'magnetometer',\n",
              "        'microphone',\n",
              "        'serial',\n",
              "        'usb',\n",
              "        'xr-spatial-tracking',\n",
              "    ].join('; ');\n",
              "    element.appendChild(iframe);\n",
              "  })(8051, \"/\", \"100%\", 650, false, window.element)"
            ]
          },
          "metadata": {}
        }
      ],
      "source": [
        "# Initialize the Dash app\n",
        "app = dash.Dash(__name__)\n",
        "\n",
        "# App Layout\n",
        "app.layout = html.Div(style={'backgroundColor': '#f9f9f9', 'fontFamily': 'Arial, sans-serif', 'padding': '50px'}, children=[\n",
        "    html.H1(\"Customer Churn Prediction\", style={'textAlign': 'center', 'color': '#2c3e50'}),\n",
        "\n",
        "    html.Div([\n",
        "        html.Label(\"Credit Score:\", style={'color': '#2c3e50'}),\n",
        "        dcc.Input(id='input-credit-score', type='number', placeholder=\"Enter Credit Score\", style={'width': '100%', 'padding': '10px', 'marginBottom': '20px'}),\n",
        "\n",
        "        html.Label(\"Geography:\", style={'color': '#2c3e50'}),\n",
        "        dcc.Dropdown(\n",
        "            id='input-geography',\n",
        "            # Check if 'Geography' column exists in the DataFrame, if not, handle it\n",
        "            options=[{'label': geo, 'value': geo} for geo in df['Geography'].unique()] if 'Geography' in df.columns else [],\n",
        "            placeholder=\"Select Geography\",\n",
        "            style={'width': '100%', 'padding': '10px', 'marginBottom': '20px'}\n",
        "        ),\n",
        "\n",
        "        html.Label(\"Gender:\", style={'color': '#2c3e50'}),\n",
        "        dcc.Dropdown(\n",
        "            id='input-gender',\n",
        "            options=[{'label': gender, 'value': gender} for gender in data['Gender'].unique()],\n",
        "            placeholder=\"Select Gender\",\n",
        "            style={'width': '100%', 'padding': '10px', 'marginBottom': '20px'}\n",
        "        ),\n",
        "\n",
        "        html.Label(\"Age:\", style={'color': '#2c3e50'}),\n",
        "        dcc.Input(id='input-age', type='number', placeholder=\"Enter Age\", style={'width': '100%', 'padding': '10px', 'marginBottom': '20px'}),\n",
        "\n",
        "        html.Label(\"Balance:\", style={'color': '#2c3e50'}),\n",
        "        dcc.Input(id='input-balance', type='number', placeholder=\"Enter Balance\", style={'width': '100%', 'padding': '10px', 'marginBottom': '20px'}),\n",
        "\n",
        "        html.Label(\"Number of Products:\", style={'color': '#2c3e50'}),\n",
        "        dcc.Input(id='input-products', type='number', placeholder=\"Enter Number of Products\", style={'width': '100%', 'padding': '10px', 'marginBottom': '20px'}),\n",
        "\n",
        "        html.Label(\"Has Credit Card (1 = Yes, 0 = No):\", style={'color': '#2c3e50'}),\n",
        "        dcc.Input(id='input-credit-card', type='number', placeholder=\"Enter 1 or 0\", style={'width': '100%', 'padding': '10px', 'marginBottom': '20px'}),\n",
        "\n",
        "        html.Label(\"Is Active Member (1 = Yes, 0 = No):\", style={'color': '#2c3e50'}),\n",
        "        dcc.Input(id='input-active-member', type='number', placeholder=\"Enter 1 or 0\", style={'width': '100%', 'padding': '10px', 'marginBottom': '20px'}),\n",
        "\n",
        "        html.Label(\"Estimated Salary:\", style={'color': '#2c3e50'}),\n",
        "        dcc.Input(id='input-salary', type='number', placeholder=\"Enter Estimated Salary\", style={'width': '100%', 'padding': '10px', 'marginBottom': '30px'}),\n",
        "\n",
        "        html.Button('Predict', id='predict-button', n_clicks=0, style={'width': '100%', 'padding': '15px', 'backgroundColor': '#2980b9', 'color': 'white', 'fontSize': '18px'}),\n",
        "\n",
        "        html.Div(id='prediction-result', style={'marginTop': '40px', 'textAlign': 'center', 'fontSize': '20px', 'color': '#34495e'}),\n",
        "    ], style={'maxWidth': '500px', 'margin': 'auto', 'backgroundColor': '#ecf0f1', 'padding': '30px', 'borderRadius': '10px', 'boxShadow': '0px 0px 20px rgba(0, 0, 0, 0.1)'})\n",
        "])\n",
        "\n",
        "# Callback to update prediction result\n",
        "# Callback to update prediction result\n",
        "@app.callback(\n",
        "    Output('prediction-result', 'children'),\n",
        "    Input('predict-button', 'n_clicks'),\n",
        "    State('input-credit-score', 'value'),\n",
        "    State('input-geography', 'value'),\n",
        "    State('input-gender', 'value'),\n",
        "    State('input-age', 'value'),\n",
        "    State('input-balance', 'value'),\n",
        "    State('input-products', 'value'),\n",
        "    State('input-credit-card', 'value'),\n",
        "    State('input-active-member', 'value'),\n",
        "    State('input-salary', 'value')\n",
        ")\n",
        "def predict_churn(n_clicks, credit_score, geography, gender, age, balance, products, credit_card, active_member, salary):\n",
        "    if n_clicks > 0:\n",
        "        # Check if all inputs are provided\n",
        "        if None in [credit_score, geography, gender, age, balance, products, credit_card, active_member, salary]:\n",
        "            return \"Please fill in all fields.\"\n",
        "\n",
        "        # Prepare input data for the model\n",
        "        try:\n",
        "            input_data = pd.DataFrame({\n",
        "                'CreditScore': [credit_score],\n",
        "                'Geography': [geography],\n",
        "                'Gender': [gender],\n",
        "                'Age': [age],\n",
        "                'Balance': [balance],\n",
        "                'NumOfProducts': [products],\n",
        "                'HasCrCard': [credit_card],\n",
        "                'IsActiveMember': [active_member],\n",
        "                'EstimatedSalary': [salary]\n",
        "            })\n",
        "\n",
        "            # Ensure the input data is processed like the training data\n",
        "            processed_data = preprocessor.transform(input_data)\n",
        "\n",
        "            # Make prediction\n",
        "            prediction = model.predict(processed_data)[0]\n",
        "            result_text = \"This customer is likely to churn.\" if prediction == 1 else \"This customer is likely to stay.\"\n",
        "\n",
        "        except Exception as e:\n",
        "            return f\"An error occurred: {str(e)}\"\n",
        "\n",
        "        return result_text\n",
        "\n",
        "if __name__ == '__main__':\n",
        "    app.run_server(debug=True, port=8051)"
      ]
    }
  ],
  "metadata": {
    "colab": {
      "collapsed_sections": [
        "aR6-iyRDBagz",
        "Y0Zx21b_KQ2u",
        "ulGFTC-sKdmY"
      ],
      "provenance": []
    },
    "kernelspec": {
      "display_name": "Python 3",
      "name": "python3"
    },
    "language_info": {
      "name": "python"
    }
  },
  "nbformat": 4,
  "nbformat_minor": 0
}